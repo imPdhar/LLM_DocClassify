{
  "nbformat": 4,
  "nbformat_minor": 0,
  "metadata": {
    "colab": {
      "provenance": [],
      "gpuType": "T4"
    },
    "kernelspec": {
      "name": "python3",
      "display_name": "Python 3"
    },
    "language_info": {
      "name": "python"
    },
    "accelerator": "GPU",
    "widgets": {
      "application/vnd.jupyter.widget-state+json": {
        "d091469957b54538ab176f4581343cce": {
          "model_module": "@jupyter-widgets/controls",
          "model_name": "HBoxModel",
          "model_module_version": "1.5.0",
          "state": {
            "_dom_classes": [],
            "_model_module": "@jupyter-widgets/controls",
            "_model_module_version": "1.5.0",
            "_model_name": "HBoxModel",
            "_view_count": null,
            "_view_module": "@jupyter-widgets/controls",
            "_view_module_version": "1.5.0",
            "_view_name": "HBoxView",
            "box_style": "",
            "children": [
              "IPY_MODEL_bac78eea0c4d44ca91f3fb4ad1b7ffe1",
              "IPY_MODEL_78ea8bccc950489f834974b55dbed991",
              "IPY_MODEL_d2f5eb3e8548418ebd07156eff64b41d"
            ],
            "layout": "IPY_MODEL_40485471aa344c02941939847a0a419a"
          }
        },
        "bac78eea0c4d44ca91f3fb4ad1b7ffe1": {
          "model_module": "@jupyter-widgets/controls",
          "model_name": "HTMLModel",
          "model_module_version": "1.5.0",
          "state": {
            "_dom_classes": [],
            "_model_module": "@jupyter-widgets/controls",
            "_model_module_version": "1.5.0",
            "_model_name": "HTMLModel",
            "_view_count": null,
            "_view_module": "@jupyter-widgets/controls",
            "_view_module_version": "1.5.0",
            "_view_name": "HTMLView",
            "description": "",
            "description_tooltip": null,
            "layout": "IPY_MODEL_84a22739dce748c1bfd4a952c92537e3",
            "placeholder": "​",
            "style": "IPY_MODEL_f1f359e599de4ecd84ce805c17ed94fd",
            "value": "Map: 100%"
          }
        },
        "78ea8bccc950489f834974b55dbed991": {
          "model_module": "@jupyter-widgets/controls",
          "model_name": "FloatProgressModel",
          "model_module_version": "1.5.0",
          "state": {
            "_dom_classes": [],
            "_model_module": "@jupyter-widgets/controls",
            "_model_module_version": "1.5.0",
            "_model_name": "FloatProgressModel",
            "_view_count": null,
            "_view_module": "@jupyter-widgets/controls",
            "_view_module_version": "1.5.0",
            "_view_name": "ProgressView",
            "bar_style": "success",
            "description": "",
            "description_tooltip": null,
            "layout": "IPY_MODEL_9431e4e8064d4271bd0fb80cfd539175",
            "max": 1000,
            "min": 0,
            "orientation": "horizontal",
            "style": "IPY_MODEL_a992eb099571453f923709e08282650b",
            "value": 1000
          }
        },
        "d2f5eb3e8548418ebd07156eff64b41d": {
          "model_module": "@jupyter-widgets/controls",
          "model_name": "HTMLModel",
          "model_module_version": "1.5.0",
          "state": {
            "_dom_classes": [],
            "_model_module": "@jupyter-widgets/controls",
            "_model_module_version": "1.5.0",
            "_model_name": "HTMLModel",
            "_view_count": null,
            "_view_module": "@jupyter-widgets/controls",
            "_view_module_version": "1.5.0",
            "_view_name": "HTMLView",
            "description": "",
            "description_tooltip": null,
            "layout": "IPY_MODEL_52f33d31e901445fa600f30bde28814a",
            "placeholder": "​",
            "style": "IPY_MODEL_39af3068f94e4524ae1765f1656846c5",
            "value": " 1000/1000 [25:16&lt;00:00,  1.79s/ examples]"
          }
        },
        "40485471aa344c02941939847a0a419a": {
          "model_module": "@jupyter-widgets/base",
          "model_name": "LayoutModel",
          "model_module_version": "1.2.0",
          "state": {
            "_model_module": "@jupyter-widgets/base",
            "_model_module_version": "1.2.0",
            "_model_name": "LayoutModel",
            "_view_count": null,
            "_view_module": "@jupyter-widgets/base",
            "_view_module_version": "1.2.0",
            "_view_name": "LayoutView",
            "align_content": null,
            "align_items": null,
            "align_self": null,
            "border": null,
            "bottom": null,
            "display": null,
            "flex": null,
            "flex_flow": null,
            "grid_area": null,
            "grid_auto_columns": null,
            "grid_auto_flow": null,
            "grid_auto_rows": null,
            "grid_column": null,
            "grid_gap": null,
            "grid_row": null,
            "grid_template_areas": null,
            "grid_template_columns": null,
            "grid_template_rows": null,
            "height": null,
            "justify_content": null,
            "justify_items": null,
            "left": null,
            "margin": null,
            "max_height": null,
            "max_width": null,
            "min_height": null,
            "min_width": null,
            "object_fit": null,
            "object_position": null,
            "order": null,
            "overflow": null,
            "overflow_x": null,
            "overflow_y": null,
            "padding": null,
            "right": null,
            "top": null,
            "visibility": null,
            "width": null
          }
        },
        "84a22739dce748c1bfd4a952c92537e3": {
          "model_module": "@jupyter-widgets/base",
          "model_name": "LayoutModel",
          "model_module_version": "1.2.0",
          "state": {
            "_model_module": "@jupyter-widgets/base",
            "_model_module_version": "1.2.0",
            "_model_name": "LayoutModel",
            "_view_count": null,
            "_view_module": "@jupyter-widgets/base",
            "_view_module_version": "1.2.0",
            "_view_name": "LayoutView",
            "align_content": null,
            "align_items": null,
            "align_self": null,
            "border": null,
            "bottom": null,
            "display": null,
            "flex": null,
            "flex_flow": null,
            "grid_area": null,
            "grid_auto_columns": null,
            "grid_auto_flow": null,
            "grid_auto_rows": null,
            "grid_column": null,
            "grid_gap": null,
            "grid_row": null,
            "grid_template_areas": null,
            "grid_template_columns": null,
            "grid_template_rows": null,
            "height": null,
            "justify_content": null,
            "justify_items": null,
            "left": null,
            "margin": null,
            "max_height": null,
            "max_width": null,
            "min_height": null,
            "min_width": null,
            "object_fit": null,
            "object_position": null,
            "order": null,
            "overflow": null,
            "overflow_x": null,
            "overflow_y": null,
            "padding": null,
            "right": null,
            "top": null,
            "visibility": null,
            "width": null
          }
        },
        "f1f359e599de4ecd84ce805c17ed94fd": {
          "model_module": "@jupyter-widgets/controls",
          "model_name": "DescriptionStyleModel",
          "model_module_version": "1.5.0",
          "state": {
            "_model_module": "@jupyter-widgets/controls",
            "_model_module_version": "1.5.0",
            "_model_name": "DescriptionStyleModel",
            "_view_count": null,
            "_view_module": "@jupyter-widgets/base",
            "_view_module_version": "1.2.0",
            "_view_name": "StyleView",
            "description_width": ""
          }
        },
        "9431e4e8064d4271bd0fb80cfd539175": {
          "model_module": "@jupyter-widgets/base",
          "model_name": "LayoutModel",
          "model_module_version": "1.2.0",
          "state": {
            "_model_module": "@jupyter-widgets/base",
            "_model_module_version": "1.2.0",
            "_model_name": "LayoutModel",
            "_view_count": null,
            "_view_module": "@jupyter-widgets/base",
            "_view_module_version": "1.2.0",
            "_view_name": "LayoutView",
            "align_content": null,
            "align_items": null,
            "align_self": null,
            "border": null,
            "bottom": null,
            "display": null,
            "flex": null,
            "flex_flow": null,
            "grid_area": null,
            "grid_auto_columns": null,
            "grid_auto_flow": null,
            "grid_auto_rows": null,
            "grid_column": null,
            "grid_gap": null,
            "grid_row": null,
            "grid_template_areas": null,
            "grid_template_columns": null,
            "grid_template_rows": null,
            "height": null,
            "justify_content": null,
            "justify_items": null,
            "left": null,
            "margin": null,
            "max_height": null,
            "max_width": null,
            "min_height": null,
            "min_width": null,
            "object_fit": null,
            "object_position": null,
            "order": null,
            "overflow": null,
            "overflow_x": null,
            "overflow_y": null,
            "padding": null,
            "right": null,
            "top": null,
            "visibility": null,
            "width": null
          }
        },
        "a992eb099571453f923709e08282650b": {
          "model_module": "@jupyter-widgets/controls",
          "model_name": "ProgressStyleModel",
          "model_module_version": "1.5.0",
          "state": {
            "_model_module": "@jupyter-widgets/controls",
            "_model_module_version": "1.5.0",
            "_model_name": "ProgressStyleModel",
            "_view_count": null,
            "_view_module": "@jupyter-widgets/base",
            "_view_module_version": "1.2.0",
            "_view_name": "StyleView",
            "bar_color": null,
            "description_width": ""
          }
        },
        "52f33d31e901445fa600f30bde28814a": {
          "model_module": "@jupyter-widgets/base",
          "model_name": "LayoutModel",
          "model_module_version": "1.2.0",
          "state": {
            "_model_module": "@jupyter-widgets/base",
            "_model_module_version": "1.2.0",
            "_model_name": "LayoutModel",
            "_view_count": null,
            "_view_module": "@jupyter-widgets/base",
            "_view_module_version": "1.2.0",
            "_view_name": "LayoutView",
            "align_content": null,
            "align_items": null,
            "align_self": null,
            "border": null,
            "bottom": null,
            "display": null,
            "flex": null,
            "flex_flow": null,
            "grid_area": null,
            "grid_auto_columns": null,
            "grid_auto_flow": null,
            "grid_auto_rows": null,
            "grid_column": null,
            "grid_gap": null,
            "grid_row": null,
            "grid_template_areas": null,
            "grid_template_columns": null,
            "grid_template_rows": null,
            "height": null,
            "justify_content": null,
            "justify_items": null,
            "left": null,
            "margin": null,
            "max_height": null,
            "max_width": null,
            "min_height": null,
            "min_width": null,
            "object_fit": null,
            "object_position": null,
            "order": null,
            "overflow": null,
            "overflow_x": null,
            "overflow_y": null,
            "padding": null,
            "right": null,
            "top": null,
            "visibility": null,
            "width": null
          }
        },
        "39af3068f94e4524ae1765f1656846c5": {
          "model_module": "@jupyter-widgets/controls",
          "model_name": "DescriptionStyleModel",
          "model_module_version": "1.5.0",
          "state": {
            "_model_module": "@jupyter-widgets/controls",
            "_model_module_version": "1.5.0",
            "_model_name": "DescriptionStyleModel",
            "_view_count": null,
            "_view_module": "@jupyter-widgets/base",
            "_view_module_version": "1.2.0",
            "_view_name": "StyleView",
            "description_width": ""
          }
        },
        "0c07acbb017b4bbbb69183eed5ef25a3": {
          "model_module": "@jupyter-widgets/controls",
          "model_name": "HBoxModel",
          "model_module_version": "1.5.0",
          "state": {
            "_dom_classes": [],
            "_model_module": "@jupyter-widgets/controls",
            "_model_module_version": "1.5.0",
            "_model_name": "HBoxModel",
            "_view_count": null,
            "_view_module": "@jupyter-widgets/controls",
            "_view_module_version": "1.5.0",
            "_view_name": "HBoxView",
            "box_style": "",
            "children": [
              "IPY_MODEL_d8c35a34484f40fe9e46ebfaa5cfa633",
              "IPY_MODEL_0f6aed12dac8484ba1cf997f8aa97339",
              "IPY_MODEL_1e4636d8abe14dcbaf255ed3120f67fd"
            ],
            "layout": "IPY_MODEL_c307bd92f91e4aacbbb9e31a10dbb314"
          }
        },
        "d8c35a34484f40fe9e46ebfaa5cfa633": {
          "model_module": "@jupyter-widgets/controls",
          "model_name": "HTMLModel",
          "model_module_version": "1.5.0",
          "state": {
            "_dom_classes": [],
            "_model_module": "@jupyter-widgets/controls",
            "_model_module_version": "1.5.0",
            "_model_name": "HTMLModel",
            "_view_count": null,
            "_view_module": "@jupyter-widgets/controls",
            "_view_module_version": "1.5.0",
            "_view_name": "HTMLView",
            "description": "",
            "description_tooltip": null,
            "layout": "IPY_MODEL_fc6b9737ddcc4aa38825f5c319f2f563",
            "placeholder": "​",
            "style": "IPY_MODEL_9cd3940c85694e0c9c2545a0df7771ae",
            "value": "pytorch_model.bin: 100%"
          }
        },
        "0f6aed12dac8484ba1cf997f8aa97339": {
          "model_module": "@jupyter-widgets/controls",
          "model_name": "FloatProgressModel",
          "model_module_version": "1.5.0",
          "state": {
            "_dom_classes": [],
            "_model_module": "@jupyter-widgets/controls",
            "_model_module_version": "1.5.0",
            "_model_name": "FloatProgressModel",
            "_view_count": null,
            "_view_module": "@jupyter-widgets/controls",
            "_view_module_version": "1.5.0",
            "_view_name": "ProgressView",
            "bar_style": "success",
            "description": "",
            "description_tooltip": null,
            "layout": "IPY_MODEL_e95c1c292fce4c3c89d099d95c3cafb4",
            "max": 802243295,
            "min": 0,
            "orientation": "horizontal",
            "style": "IPY_MODEL_13ca19969072472eb93dfc8f050c89cc",
            "value": 802243295
          }
        },
        "1e4636d8abe14dcbaf255ed3120f67fd": {
          "model_module": "@jupyter-widgets/controls",
          "model_name": "HTMLModel",
          "model_module_version": "1.5.0",
          "state": {
            "_dom_classes": [],
            "_model_module": "@jupyter-widgets/controls",
            "_model_module_version": "1.5.0",
            "_model_name": "HTMLModel",
            "_view_count": null,
            "_view_module": "@jupyter-widgets/controls",
            "_view_module_version": "1.5.0",
            "_view_name": "HTMLView",
            "description": "",
            "description_tooltip": null,
            "layout": "IPY_MODEL_85385935374d4bcca34d531e6d7fd03e",
            "placeholder": "​",
            "style": "IPY_MODEL_0d98b3c852034843ab28227a71fff2a0",
            "value": " 802M/802M [00:03&lt;00:00, 249MB/s]"
          }
        },
        "c307bd92f91e4aacbbb9e31a10dbb314": {
          "model_module": "@jupyter-widgets/base",
          "model_name": "LayoutModel",
          "model_module_version": "1.2.0",
          "state": {
            "_model_module": "@jupyter-widgets/base",
            "_model_module_version": "1.2.0",
            "_model_name": "LayoutModel",
            "_view_count": null,
            "_view_module": "@jupyter-widgets/base",
            "_view_module_version": "1.2.0",
            "_view_name": "LayoutView",
            "align_content": null,
            "align_items": null,
            "align_self": null,
            "border": null,
            "bottom": null,
            "display": null,
            "flex": null,
            "flex_flow": null,
            "grid_area": null,
            "grid_auto_columns": null,
            "grid_auto_flow": null,
            "grid_auto_rows": null,
            "grid_column": null,
            "grid_gap": null,
            "grid_row": null,
            "grid_template_areas": null,
            "grid_template_columns": null,
            "grid_template_rows": null,
            "height": null,
            "justify_content": null,
            "justify_items": null,
            "left": null,
            "margin": null,
            "max_height": null,
            "max_width": null,
            "min_height": null,
            "min_width": null,
            "object_fit": null,
            "object_position": null,
            "order": null,
            "overflow": null,
            "overflow_x": null,
            "overflow_y": null,
            "padding": null,
            "right": null,
            "top": null,
            "visibility": null,
            "width": null
          }
        },
        "fc6b9737ddcc4aa38825f5c319f2f563": {
          "model_module": "@jupyter-widgets/base",
          "model_name": "LayoutModel",
          "model_module_version": "1.2.0",
          "state": {
            "_model_module": "@jupyter-widgets/base",
            "_model_module_version": "1.2.0",
            "_model_name": "LayoutModel",
            "_view_count": null,
            "_view_module": "@jupyter-widgets/base",
            "_view_module_version": "1.2.0",
            "_view_name": "LayoutView",
            "align_content": null,
            "align_items": null,
            "align_self": null,
            "border": null,
            "bottom": null,
            "display": null,
            "flex": null,
            "flex_flow": null,
            "grid_area": null,
            "grid_auto_columns": null,
            "grid_auto_flow": null,
            "grid_auto_rows": null,
            "grid_column": null,
            "grid_gap": null,
            "grid_row": null,
            "grid_template_areas": null,
            "grid_template_columns": null,
            "grid_template_rows": null,
            "height": null,
            "justify_content": null,
            "justify_items": null,
            "left": null,
            "margin": null,
            "max_height": null,
            "max_width": null,
            "min_height": null,
            "min_width": null,
            "object_fit": null,
            "object_position": null,
            "order": null,
            "overflow": null,
            "overflow_x": null,
            "overflow_y": null,
            "padding": null,
            "right": null,
            "top": null,
            "visibility": null,
            "width": null
          }
        },
        "9cd3940c85694e0c9c2545a0df7771ae": {
          "model_module": "@jupyter-widgets/controls",
          "model_name": "DescriptionStyleModel",
          "model_module_version": "1.5.0",
          "state": {
            "_model_module": "@jupyter-widgets/controls",
            "_model_module_version": "1.5.0",
            "_model_name": "DescriptionStyleModel",
            "_view_count": null,
            "_view_module": "@jupyter-widgets/base",
            "_view_module_version": "1.2.0",
            "_view_name": "StyleView",
            "description_width": ""
          }
        },
        "e95c1c292fce4c3c89d099d95c3cafb4": {
          "model_module": "@jupyter-widgets/base",
          "model_name": "LayoutModel",
          "model_module_version": "1.2.0",
          "state": {
            "_model_module": "@jupyter-widgets/base",
            "_model_module_version": "1.2.0",
            "_model_name": "LayoutModel",
            "_view_count": null,
            "_view_module": "@jupyter-widgets/base",
            "_view_module_version": "1.2.0",
            "_view_name": "LayoutView",
            "align_content": null,
            "align_items": null,
            "align_self": null,
            "border": null,
            "bottom": null,
            "display": null,
            "flex": null,
            "flex_flow": null,
            "grid_area": null,
            "grid_auto_columns": null,
            "grid_auto_flow": null,
            "grid_auto_rows": null,
            "grid_column": null,
            "grid_gap": null,
            "grid_row": null,
            "grid_template_areas": null,
            "grid_template_columns": null,
            "grid_template_rows": null,
            "height": null,
            "justify_content": null,
            "justify_items": null,
            "left": null,
            "margin": null,
            "max_height": null,
            "max_width": null,
            "min_height": null,
            "min_width": null,
            "object_fit": null,
            "object_position": null,
            "order": null,
            "overflow": null,
            "overflow_x": null,
            "overflow_y": null,
            "padding": null,
            "right": null,
            "top": null,
            "visibility": null,
            "width": null
          }
        },
        "13ca19969072472eb93dfc8f050c89cc": {
          "model_module": "@jupyter-widgets/controls",
          "model_name": "ProgressStyleModel",
          "model_module_version": "1.5.0",
          "state": {
            "_model_module": "@jupyter-widgets/controls",
            "_model_module_version": "1.5.0",
            "_model_name": "ProgressStyleModel",
            "_view_count": null,
            "_view_module": "@jupyter-widgets/base",
            "_view_module_version": "1.2.0",
            "_view_name": "StyleView",
            "bar_color": null,
            "description_width": ""
          }
        },
        "85385935374d4bcca34d531e6d7fd03e": {
          "model_module": "@jupyter-widgets/base",
          "model_name": "LayoutModel",
          "model_module_version": "1.2.0",
          "state": {
            "_model_module": "@jupyter-widgets/base",
            "_model_module_version": "1.2.0",
            "_model_name": "LayoutModel",
            "_view_count": null,
            "_view_module": "@jupyter-widgets/base",
            "_view_module_version": "1.2.0",
            "_view_name": "LayoutView",
            "align_content": null,
            "align_items": null,
            "align_self": null,
            "border": null,
            "bottom": null,
            "display": null,
            "flex": null,
            "flex_flow": null,
            "grid_area": null,
            "grid_auto_columns": null,
            "grid_auto_flow": null,
            "grid_auto_rows": null,
            "grid_column": null,
            "grid_gap": null,
            "grid_row": null,
            "grid_template_areas": null,
            "grid_template_columns": null,
            "grid_template_rows": null,
            "height": null,
            "justify_content": null,
            "justify_items": null,
            "left": null,
            "margin": null,
            "max_height": null,
            "max_width": null,
            "min_height": null,
            "min_width": null,
            "object_fit": null,
            "object_position": null,
            "order": null,
            "overflow": null,
            "overflow_x": null,
            "overflow_y": null,
            "padding": null,
            "right": null,
            "top": null,
            "visibility": null,
            "width": null
          }
        },
        "0d98b3c852034843ab28227a71fff2a0": {
          "model_module": "@jupyter-widgets/controls",
          "model_name": "DescriptionStyleModel",
          "model_module_version": "1.5.0",
          "state": {
            "_model_module": "@jupyter-widgets/controls",
            "_model_module_version": "1.5.0",
            "_model_name": "DescriptionStyleModel",
            "_view_count": null,
            "_view_module": "@jupyter-widgets/base",
            "_view_module_version": "1.2.0",
            "_view_name": "StyleView",
            "description_width": ""
          }
        },
        "16a39783d351446692f864bbbb741797": {
          "model_module": "@jupyter-widgets/controls",
          "model_name": "HBoxModel",
          "model_module_version": "1.5.0",
          "state": {
            "_dom_classes": [],
            "_model_module": "@jupyter-widgets/controls",
            "_model_module_version": "1.5.0",
            "_model_name": "HBoxModel",
            "_view_count": null,
            "_view_module": "@jupyter-widgets/controls",
            "_view_module_version": "1.5.0",
            "_view_name": "HBoxView",
            "box_style": "",
            "children": [
              "IPY_MODEL_5914ffab904f459a8ed24af8719d94fe",
              "IPY_MODEL_c0e35eb179b94d5f8872a2c91340eb5d",
              "IPY_MODEL_4c3e1d3af9c3457083b38f5b8d8c56ad"
            ],
            "layout": "IPY_MODEL_f61f4f1cd5b347f28aa9335be89704a5"
          }
        },
        "5914ffab904f459a8ed24af8719d94fe": {
          "model_module": "@jupyter-widgets/controls",
          "model_name": "HTMLModel",
          "model_module_version": "1.5.0",
          "state": {
            "_dom_classes": [],
            "_model_module": "@jupyter-widgets/controls",
            "_model_module_version": "1.5.0",
            "_model_name": "HTMLModel",
            "_view_count": null,
            "_view_module": "@jupyter-widgets/controls",
            "_view_module_version": "1.5.0",
            "_view_name": "HTMLView",
            "description": "",
            "description_tooltip": null,
            "layout": "IPY_MODEL_685574fb08e848e0aa0027b2dc0400d6",
            "placeholder": "​",
            "style": "IPY_MODEL_1ea926347e694c71892535dd3aa2e48d",
            "value": "100%"
          }
        },
        "c0e35eb179b94d5f8872a2c91340eb5d": {
          "model_module": "@jupyter-widgets/controls",
          "model_name": "FloatProgressModel",
          "model_module_version": "1.5.0",
          "state": {
            "_dom_classes": [],
            "_model_module": "@jupyter-widgets/controls",
            "_model_module_version": "1.5.0",
            "_model_name": "FloatProgressModel",
            "_view_count": null,
            "_view_module": "@jupyter-widgets/controls",
            "_view_module_version": "1.5.0",
            "_view_name": "ProgressView",
            "bar_style": "success",
            "description": "",
            "description_tooltip": null,
            "layout": "IPY_MODEL_b95c77e8a4a64adc83122a88b26c1ba4",
            "max": 125,
            "min": 0,
            "orientation": "horizontal",
            "style": "IPY_MODEL_451d46e5c6a944cc8770e063b5b9b605",
            "value": 125
          }
        },
        "4c3e1d3af9c3457083b38f5b8d8c56ad": {
          "model_module": "@jupyter-widgets/controls",
          "model_name": "HTMLModel",
          "model_module_version": "1.5.0",
          "state": {
            "_dom_classes": [],
            "_model_module": "@jupyter-widgets/controls",
            "_model_module_version": "1.5.0",
            "_model_name": "HTMLModel",
            "_view_count": null,
            "_view_module": "@jupyter-widgets/controls",
            "_view_module_version": "1.5.0",
            "_view_name": "HTMLView",
            "description": "",
            "description_tooltip": null,
            "layout": "IPY_MODEL_5f2ec9009fdb4102a0fbdbc1d5ed4816",
            "placeholder": "​",
            "style": "IPY_MODEL_e414fe2e783b4dd2b7e00f71aca7e85b",
            "value": " 125/125 [03:00&lt;00:00,  1.25s/it]"
          }
        },
        "f61f4f1cd5b347f28aa9335be89704a5": {
          "model_module": "@jupyter-widgets/base",
          "model_name": "LayoutModel",
          "model_module_version": "1.2.0",
          "state": {
            "_model_module": "@jupyter-widgets/base",
            "_model_module_version": "1.2.0",
            "_model_name": "LayoutModel",
            "_view_count": null,
            "_view_module": "@jupyter-widgets/base",
            "_view_module_version": "1.2.0",
            "_view_name": "LayoutView",
            "align_content": null,
            "align_items": null,
            "align_self": null,
            "border": null,
            "bottom": null,
            "display": null,
            "flex": null,
            "flex_flow": null,
            "grid_area": null,
            "grid_auto_columns": null,
            "grid_auto_flow": null,
            "grid_auto_rows": null,
            "grid_column": null,
            "grid_gap": null,
            "grid_row": null,
            "grid_template_areas": null,
            "grid_template_columns": null,
            "grid_template_rows": null,
            "height": null,
            "justify_content": null,
            "justify_items": null,
            "left": null,
            "margin": null,
            "max_height": null,
            "max_width": null,
            "min_height": null,
            "min_width": null,
            "object_fit": null,
            "object_position": null,
            "order": null,
            "overflow": null,
            "overflow_x": null,
            "overflow_y": null,
            "padding": null,
            "right": null,
            "top": null,
            "visibility": null,
            "width": null
          }
        },
        "685574fb08e848e0aa0027b2dc0400d6": {
          "model_module": "@jupyter-widgets/base",
          "model_name": "LayoutModel",
          "model_module_version": "1.2.0",
          "state": {
            "_model_module": "@jupyter-widgets/base",
            "_model_module_version": "1.2.0",
            "_model_name": "LayoutModel",
            "_view_count": null,
            "_view_module": "@jupyter-widgets/base",
            "_view_module_version": "1.2.0",
            "_view_name": "LayoutView",
            "align_content": null,
            "align_items": null,
            "align_self": null,
            "border": null,
            "bottom": null,
            "display": null,
            "flex": null,
            "flex_flow": null,
            "grid_area": null,
            "grid_auto_columns": null,
            "grid_auto_flow": null,
            "grid_auto_rows": null,
            "grid_column": null,
            "grid_gap": null,
            "grid_row": null,
            "grid_template_areas": null,
            "grid_template_columns": null,
            "grid_template_rows": null,
            "height": null,
            "justify_content": null,
            "justify_items": null,
            "left": null,
            "margin": null,
            "max_height": null,
            "max_width": null,
            "min_height": null,
            "min_width": null,
            "object_fit": null,
            "object_position": null,
            "order": null,
            "overflow": null,
            "overflow_x": null,
            "overflow_y": null,
            "padding": null,
            "right": null,
            "top": null,
            "visibility": null,
            "width": null
          }
        },
        "1ea926347e694c71892535dd3aa2e48d": {
          "model_module": "@jupyter-widgets/controls",
          "model_name": "DescriptionStyleModel",
          "model_module_version": "1.5.0",
          "state": {
            "_model_module": "@jupyter-widgets/controls",
            "_model_module_version": "1.5.0",
            "_model_name": "DescriptionStyleModel",
            "_view_count": null,
            "_view_module": "@jupyter-widgets/base",
            "_view_module_version": "1.2.0",
            "_view_name": "StyleView",
            "description_width": ""
          }
        },
        "b95c77e8a4a64adc83122a88b26c1ba4": {
          "model_module": "@jupyter-widgets/base",
          "model_name": "LayoutModel",
          "model_module_version": "1.2.0",
          "state": {
            "_model_module": "@jupyter-widgets/base",
            "_model_module_version": "1.2.0",
            "_model_name": "LayoutModel",
            "_view_count": null,
            "_view_module": "@jupyter-widgets/base",
            "_view_module_version": "1.2.0",
            "_view_name": "LayoutView",
            "align_content": null,
            "align_items": null,
            "align_self": null,
            "border": null,
            "bottom": null,
            "display": null,
            "flex": null,
            "flex_flow": null,
            "grid_area": null,
            "grid_auto_columns": null,
            "grid_auto_flow": null,
            "grid_auto_rows": null,
            "grid_column": null,
            "grid_gap": null,
            "grid_row": null,
            "grid_template_areas": null,
            "grid_template_columns": null,
            "grid_template_rows": null,
            "height": null,
            "justify_content": null,
            "justify_items": null,
            "left": null,
            "margin": null,
            "max_height": null,
            "max_width": null,
            "min_height": null,
            "min_width": null,
            "object_fit": null,
            "object_position": null,
            "order": null,
            "overflow": null,
            "overflow_x": null,
            "overflow_y": null,
            "padding": null,
            "right": null,
            "top": null,
            "visibility": null,
            "width": null
          }
        },
        "451d46e5c6a944cc8770e063b5b9b605": {
          "model_module": "@jupyter-widgets/controls",
          "model_name": "ProgressStyleModel",
          "model_module_version": "1.5.0",
          "state": {
            "_model_module": "@jupyter-widgets/controls",
            "_model_module_version": "1.5.0",
            "_model_name": "ProgressStyleModel",
            "_view_count": null,
            "_view_module": "@jupyter-widgets/base",
            "_view_module_version": "1.2.0",
            "_view_name": "StyleView",
            "bar_color": null,
            "description_width": ""
          }
        },
        "5f2ec9009fdb4102a0fbdbc1d5ed4816": {
          "model_module": "@jupyter-widgets/base",
          "model_name": "LayoutModel",
          "model_module_version": "1.2.0",
          "state": {
            "_model_module": "@jupyter-widgets/base",
            "_model_module_version": "1.2.0",
            "_model_name": "LayoutModel",
            "_view_count": null,
            "_view_module": "@jupyter-widgets/base",
            "_view_module_version": "1.2.0",
            "_view_name": "LayoutView",
            "align_content": null,
            "align_items": null,
            "align_self": null,
            "border": null,
            "bottom": null,
            "display": null,
            "flex": null,
            "flex_flow": null,
            "grid_area": null,
            "grid_auto_columns": null,
            "grid_auto_flow": null,
            "grid_auto_rows": null,
            "grid_column": null,
            "grid_gap": null,
            "grid_row": null,
            "grid_template_areas": null,
            "grid_template_columns": null,
            "grid_template_rows": null,
            "height": null,
            "justify_content": null,
            "justify_items": null,
            "left": null,
            "margin": null,
            "max_height": null,
            "max_width": null,
            "min_height": null,
            "min_width": null,
            "object_fit": null,
            "object_position": null,
            "order": null,
            "overflow": null,
            "overflow_x": null,
            "overflow_y": null,
            "padding": null,
            "right": null,
            "top": null,
            "visibility": null,
            "width": null
          }
        },
        "e414fe2e783b4dd2b7e00f71aca7e85b": {
          "model_module": "@jupyter-widgets/controls",
          "model_name": "DescriptionStyleModel",
          "model_module_version": "1.5.0",
          "state": {
            "_model_module": "@jupyter-widgets/controls",
            "_model_module_version": "1.5.0",
            "_model_name": "DescriptionStyleModel",
            "_view_count": null,
            "_view_module": "@jupyter-widgets/base",
            "_view_module_version": "1.2.0",
            "_view_name": "StyleView",
            "description_width": ""
          }
        },
        "1fc4ab9753464f06a63f17af960acb11": {
          "model_module": "@jupyter-widgets/controls",
          "model_name": "HBoxModel",
          "model_module_version": "1.5.0",
          "state": {
            "_dom_classes": [],
            "_model_module": "@jupyter-widgets/controls",
            "_model_module_version": "1.5.0",
            "_model_name": "HBoxModel",
            "_view_count": null,
            "_view_module": "@jupyter-widgets/controls",
            "_view_module_version": "1.5.0",
            "_view_name": "HBoxView",
            "box_style": "",
            "children": [
              "IPY_MODEL_ffe6ce8f6d934451a4fbed70b0a6d6b7",
              "IPY_MODEL_0e59c4292f7c4cf0a7dd1f2ed8b3e261",
              "IPY_MODEL_eb8356f74e6548228675365839fcbde5"
            ],
            "layout": "IPY_MODEL_4725b78c7d914b18a0b54f92a4e737c4"
          }
        },
        "ffe6ce8f6d934451a4fbed70b0a6d6b7": {
          "model_module": "@jupyter-widgets/controls",
          "model_name": "HTMLModel",
          "model_module_version": "1.5.0",
          "state": {
            "_dom_classes": [],
            "_model_module": "@jupyter-widgets/controls",
            "_model_module_version": "1.5.0",
            "_model_name": "HTMLModel",
            "_view_count": null,
            "_view_module": "@jupyter-widgets/controls",
            "_view_module_version": "1.5.0",
            "_view_name": "HTMLView",
            "description": "",
            "description_tooltip": null,
            "layout": "IPY_MODEL_f9a7da2d51d74b8c9db83b26317f0457",
            "placeholder": "​",
            "style": "IPY_MODEL_295c3a4a02324bec897143e7f81ef448",
            "value": "100%"
          }
        },
        "0e59c4292f7c4cf0a7dd1f2ed8b3e261": {
          "model_module": "@jupyter-widgets/controls",
          "model_name": "FloatProgressModel",
          "model_module_version": "1.5.0",
          "state": {
            "_dom_classes": [],
            "_model_module": "@jupyter-widgets/controls",
            "_model_module_version": "1.5.0",
            "_model_name": "FloatProgressModel",
            "_view_count": null,
            "_view_module": "@jupyter-widgets/controls",
            "_view_module_version": "1.5.0",
            "_view_name": "ProgressView",
            "bar_style": "success",
            "description": "",
            "description_tooltip": null,
            "layout": "IPY_MODEL_3df904d991ab4eb9ae8eb9f07649dc0b",
            "max": 125,
            "min": 0,
            "orientation": "horizontal",
            "style": "IPY_MODEL_6e3ee54e597044c38551522d562da7de",
            "value": 125
          }
        },
        "eb8356f74e6548228675365839fcbde5": {
          "model_module": "@jupyter-widgets/controls",
          "model_name": "HTMLModel",
          "model_module_version": "1.5.0",
          "state": {
            "_dom_classes": [],
            "_model_module": "@jupyter-widgets/controls",
            "_model_module_version": "1.5.0",
            "_model_name": "HTMLModel",
            "_view_count": null,
            "_view_module": "@jupyter-widgets/controls",
            "_view_module_version": "1.5.0",
            "_view_name": "HTMLView",
            "description": "",
            "description_tooltip": null,
            "layout": "IPY_MODEL_120faaa397ff48808ec1418397cdbc64",
            "placeholder": "​",
            "style": "IPY_MODEL_e930153f520f425c9bad20d7d990cbf0",
            "value": " 125/125 [03:00&lt;00:00,  1.26s/it]"
          }
        },
        "4725b78c7d914b18a0b54f92a4e737c4": {
          "model_module": "@jupyter-widgets/base",
          "model_name": "LayoutModel",
          "model_module_version": "1.2.0",
          "state": {
            "_model_module": "@jupyter-widgets/base",
            "_model_module_version": "1.2.0",
            "_model_name": "LayoutModel",
            "_view_count": null,
            "_view_module": "@jupyter-widgets/base",
            "_view_module_version": "1.2.0",
            "_view_name": "LayoutView",
            "align_content": null,
            "align_items": null,
            "align_self": null,
            "border": null,
            "bottom": null,
            "display": null,
            "flex": null,
            "flex_flow": null,
            "grid_area": null,
            "grid_auto_columns": null,
            "grid_auto_flow": null,
            "grid_auto_rows": null,
            "grid_column": null,
            "grid_gap": null,
            "grid_row": null,
            "grid_template_areas": null,
            "grid_template_columns": null,
            "grid_template_rows": null,
            "height": null,
            "justify_content": null,
            "justify_items": null,
            "left": null,
            "margin": null,
            "max_height": null,
            "max_width": null,
            "min_height": null,
            "min_width": null,
            "object_fit": null,
            "object_position": null,
            "order": null,
            "overflow": null,
            "overflow_x": null,
            "overflow_y": null,
            "padding": null,
            "right": null,
            "top": null,
            "visibility": null,
            "width": null
          }
        },
        "f9a7da2d51d74b8c9db83b26317f0457": {
          "model_module": "@jupyter-widgets/base",
          "model_name": "LayoutModel",
          "model_module_version": "1.2.0",
          "state": {
            "_model_module": "@jupyter-widgets/base",
            "_model_module_version": "1.2.0",
            "_model_name": "LayoutModel",
            "_view_count": null,
            "_view_module": "@jupyter-widgets/base",
            "_view_module_version": "1.2.0",
            "_view_name": "LayoutView",
            "align_content": null,
            "align_items": null,
            "align_self": null,
            "border": null,
            "bottom": null,
            "display": null,
            "flex": null,
            "flex_flow": null,
            "grid_area": null,
            "grid_auto_columns": null,
            "grid_auto_flow": null,
            "grid_auto_rows": null,
            "grid_column": null,
            "grid_gap": null,
            "grid_row": null,
            "grid_template_areas": null,
            "grid_template_columns": null,
            "grid_template_rows": null,
            "height": null,
            "justify_content": null,
            "justify_items": null,
            "left": null,
            "margin": null,
            "max_height": null,
            "max_width": null,
            "min_height": null,
            "min_width": null,
            "object_fit": null,
            "object_position": null,
            "order": null,
            "overflow": null,
            "overflow_x": null,
            "overflow_y": null,
            "padding": null,
            "right": null,
            "top": null,
            "visibility": null,
            "width": null
          }
        },
        "295c3a4a02324bec897143e7f81ef448": {
          "model_module": "@jupyter-widgets/controls",
          "model_name": "DescriptionStyleModel",
          "model_module_version": "1.5.0",
          "state": {
            "_model_module": "@jupyter-widgets/controls",
            "_model_module_version": "1.5.0",
            "_model_name": "DescriptionStyleModel",
            "_view_count": null,
            "_view_module": "@jupyter-widgets/base",
            "_view_module_version": "1.2.0",
            "_view_name": "StyleView",
            "description_width": ""
          }
        },
        "3df904d991ab4eb9ae8eb9f07649dc0b": {
          "model_module": "@jupyter-widgets/base",
          "model_name": "LayoutModel",
          "model_module_version": "1.2.0",
          "state": {
            "_model_module": "@jupyter-widgets/base",
            "_model_module_version": "1.2.0",
            "_model_name": "LayoutModel",
            "_view_count": null,
            "_view_module": "@jupyter-widgets/base",
            "_view_module_version": "1.2.0",
            "_view_name": "LayoutView",
            "align_content": null,
            "align_items": null,
            "align_self": null,
            "border": null,
            "bottom": null,
            "display": null,
            "flex": null,
            "flex_flow": null,
            "grid_area": null,
            "grid_auto_columns": null,
            "grid_auto_flow": null,
            "grid_auto_rows": null,
            "grid_column": null,
            "grid_gap": null,
            "grid_row": null,
            "grid_template_areas": null,
            "grid_template_columns": null,
            "grid_template_rows": null,
            "height": null,
            "justify_content": null,
            "justify_items": null,
            "left": null,
            "margin": null,
            "max_height": null,
            "max_width": null,
            "min_height": null,
            "min_width": null,
            "object_fit": null,
            "object_position": null,
            "order": null,
            "overflow": null,
            "overflow_x": null,
            "overflow_y": null,
            "padding": null,
            "right": null,
            "top": null,
            "visibility": null,
            "width": null
          }
        },
        "6e3ee54e597044c38551522d562da7de": {
          "model_module": "@jupyter-widgets/controls",
          "model_name": "ProgressStyleModel",
          "model_module_version": "1.5.0",
          "state": {
            "_model_module": "@jupyter-widgets/controls",
            "_model_module_version": "1.5.0",
            "_model_name": "ProgressStyleModel",
            "_view_count": null,
            "_view_module": "@jupyter-widgets/base",
            "_view_module_version": "1.2.0",
            "_view_name": "StyleView",
            "bar_color": null,
            "description_width": ""
          }
        },
        "120faaa397ff48808ec1418397cdbc64": {
          "model_module": "@jupyter-widgets/base",
          "model_name": "LayoutModel",
          "model_module_version": "1.2.0",
          "state": {
            "_model_module": "@jupyter-widgets/base",
            "_model_module_version": "1.2.0",
            "_model_name": "LayoutModel",
            "_view_count": null,
            "_view_module": "@jupyter-widgets/base",
            "_view_module_version": "1.2.0",
            "_view_name": "LayoutView",
            "align_content": null,
            "align_items": null,
            "align_self": null,
            "border": null,
            "bottom": null,
            "display": null,
            "flex": null,
            "flex_flow": null,
            "grid_area": null,
            "grid_auto_columns": null,
            "grid_auto_flow": null,
            "grid_auto_rows": null,
            "grid_column": null,
            "grid_gap": null,
            "grid_row": null,
            "grid_template_areas": null,
            "grid_template_columns": null,
            "grid_template_rows": null,
            "height": null,
            "justify_content": null,
            "justify_items": null,
            "left": null,
            "margin": null,
            "max_height": null,
            "max_width": null,
            "min_height": null,
            "min_width": null,
            "object_fit": null,
            "object_position": null,
            "order": null,
            "overflow": null,
            "overflow_x": null,
            "overflow_y": null,
            "padding": null,
            "right": null,
            "top": null,
            "visibility": null,
            "width": null
          }
        },
        "e930153f520f425c9bad20d7d990cbf0": {
          "model_module": "@jupyter-widgets/controls",
          "model_name": "DescriptionStyleModel",
          "model_module_version": "1.5.0",
          "state": {
            "_model_module": "@jupyter-widgets/controls",
            "_model_module_version": "1.5.0",
            "_model_name": "DescriptionStyleModel",
            "_view_count": null,
            "_view_module": "@jupyter-widgets/base",
            "_view_module_version": "1.2.0",
            "_view_name": "StyleView",
            "description_width": ""
          }
        },
        "e520575c6ada4a47b2981f221d6d89ab": {
          "model_module": "@jupyter-widgets/controls",
          "model_name": "HBoxModel",
          "model_module_version": "1.5.0",
          "state": {
            "_dom_classes": [],
            "_model_module": "@jupyter-widgets/controls",
            "_model_module_version": "1.5.0",
            "_model_name": "HBoxModel",
            "_view_count": null,
            "_view_module": "@jupyter-widgets/controls",
            "_view_module_version": "1.5.0",
            "_view_name": "HBoxView",
            "box_style": "",
            "children": [
              "IPY_MODEL_2402d679944b4952846a04b6039ce49a",
              "IPY_MODEL_83e46a08fe694a63bfd89ea2997583aa",
              "IPY_MODEL_d2ece8ff7809494494524735e092f648"
            ],
            "layout": "IPY_MODEL_d6be438274014ef6919c2be9de738552"
          }
        },
        "2402d679944b4952846a04b6039ce49a": {
          "model_module": "@jupyter-widgets/controls",
          "model_name": "HTMLModel",
          "model_module_version": "1.5.0",
          "state": {
            "_dom_classes": [],
            "_model_module": "@jupyter-widgets/controls",
            "_model_module_version": "1.5.0",
            "_model_name": "HTMLModel",
            "_view_count": null,
            "_view_module": "@jupyter-widgets/controls",
            "_view_module_version": "1.5.0",
            "_view_name": "HTMLView",
            "description": "",
            "description_tooltip": null,
            "layout": "IPY_MODEL_e41199bfa67548e0b04f12e9d9424df1",
            "placeholder": "​",
            "style": "IPY_MODEL_50e4debc5e4b46969185818d3a516898",
            "value": "100%"
          }
        },
        "83e46a08fe694a63bfd89ea2997583aa": {
          "model_module": "@jupyter-widgets/controls",
          "model_name": "FloatProgressModel",
          "model_module_version": "1.5.0",
          "state": {
            "_dom_classes": [],
            "_model_module": "@jupyter-widgets/controls",
            "_model_module_version": "1.5.0",
            "_model_name": "FloatProgressModel",
            "_view_count": null,
            "_view_module": "@jupyter-widgets/controls",
            "_view_module_version": "1.5.0",
            "_view_name": "ProgressView",
            "bar_style": "success",
            "description": "",
            "description_tooltip": null,
            "layout": "IPY_MODEL_c67d48a661364497b5ff6da3b5c78bc5",
            "max": 125,
            "min": 0,
            "orientation": "horizontal",
            "style": "IPY_MODEL_0eddfaf1a09f4e5eb732ad2884d0b50d",
            "value": 125
          }
        },
        "d2ece8ff7809494494524735e092f648": {
          "model_module": "@jupyter-widgets/controls",
          "model_name": "HTMLModel",
          "model_module_version": "1.5.0",
          "state": {
            "_dom_classes": [],
            "_model_module": "@jupyter-widgets/controls",
            "_model_module_version": "1.5.0",
            "_model_name": "HTMLModel",
            "_view_count": null,
            "_view_module": "@jupyter-widgets/controls",
            "_view_module_version": "1.5.0",
            "_view_name": "HTMLView",
            "description": "",
            "description_tooltip": null,
            "layout": "IPY_MODEL_296e0a613ce149a78168d8abf1846620",
            "placeholder": "​",
            "style": "IPY_MODEL_e761031804504fb9acb89ffdba8443c3",
            "value": " 125/125 [03:00&lt;00:00,  1.25s/it]"
          }
        },
        "d6be438274014ef6919c2be9de738552": {
          "model_module": "@jupyter-widgets/base",
          "model_name": "LayoutModel",
          "model_module_version": "1.2.0",
          "state": {
            "_model_module": "@jupyter-widgets/base",
            "_model_module_version": "1.2.0",
            "_model_name": "LayoutModel",
            "_view_count": null,
            "_view_module": "@jupyter-widgets/base",
            "_view_module_version": "1.2.0",
            "_view_name": "LayoutView",
            "align_content": null,
            "align_items": null,
            "align_self": null,
            "border": null,
            "bottom": null,
            "display": null,
            "flex": null,
            "flex_flow": null,
            "grid_area": null,
            "grid_auto_columns": null,
            "grid_auto_flow": null,
            "grid_auto_rows": null,
            "grid_column": null,
            "grid_gap": null,
            "grid_row": null,
            "grid_template_areas": null,
            "grid_template_columns": null,
            "grid_template_rows": null,
            "height": null,
            "justify_content": null,
            "justify_items": null,
            "left": null,
            "margin": null,
            "max_height": null,
            "max_width": null,
            "min_height": null,
            "min_width": null,
            "object_fit": null,
            "object_position": null,
            "order": null,
            "overflow": null,
            "overflow_x": null,
            "overflow_y": null,
            "padding": null,
            "right": null,
            "top": null,
            "visibility": null,
            "width": null
          }
        },
        "e41199bfa67548e0b04f12e9d9424df1": {
          "model_module": "@jupyter-widgets/base",
          "model_name": "LayoutModel",
          "model_module_version": "1.2.0",
          "state": {
            "_model_module": "@jupyter-widgets/base",
            "_model_module_version": "1.2.0",
            "_model_name": "LayoutModel",
            "_view_count": null,
            "_view_module": "@jupyter-widgets/base",
            "_view_module_version": "1.2.0",
            "_view_name": "LayoutView",
            "align_content": null,
            "align_items": null,
            "align_self": null,
            "border": null,
            "bottom": null,
            "display": null,
            "flex": null,
            "flex_flow": null,
            "grid_area": null,
            "grid_auto_columns": null,
            "grid_auto_flow": null,
            "grid_auto_rows": null,
            "grid_column": null,
            "grid_gap": null,
            "grid_row": null,
            "grid_template_areas": null,
            "grid_template_columns": null,
            "grid_template_rows": null,
            "height": null,
            "justify_content": null,
            "justify_items": null,
            "left": null,
            "margin": null,
            "max_height": null,
            "max_width": null,
            "min_height": null,
            "min_width": null,
            "object_fit": null,
            "object_position": null,
            "order": null,
            "overflow": null,
            "overflow_x": null,
            "overflow_y": null,
            "padding": null,
            "right": null,
            "top": null,
            "visibility": null,
            "width": null
          }
        },
        "50e4debc5e4b46969185818d3a516898": {
          "model_module": "@jupyter-widgets/controls",
          "model_name": "DescriptionStyleModel",
          "model_module_version": "1.5.0",
          "state": {
            "_model_module": "@jupyter-widgets/controls",
            "_model_module_version": "1.5.0",
            "_model_name": "DescriptionStyleModel",
            "_view_count": null,
            "_view_module": "@jupyter-widgets/base",
            "_view_module_version": "1.2.0",
            "_view_name": "StyleView",
            "description_width": ""
          }
        },
        "c67d48a661364497b5ff6da3b5c78bc5": {
          "model_module": "@jupyter-widgets/base",
          "model_name": "LayoutModel",
          "model_module_version": "1.2.0",
          "state": {
            "_model_module": "@jupyter-widgets/base",
            "_model_module_version": "1.2.0",
            "_model_name": "LayoutModel",
            "_view_count": null,
            "_view_module": "@jupyter-widgets/base",
            "_view_module_version": "1.2.0",
            "_view_name": "LayoutView",
            "align_content": null,
            "align_items": null,
            "align_self": null,
            "border": null,
            "bottom": null,
            "display": null,
            "flex": null,
            "flex_flow": null,
            "grid_area": null,
            "grid_auto_columns": null,
            "grid_auto_flow": null,
            "grid_auto_rows": null,
            "grid_column": null,
            "grid_gap": null,
            "grid_row": null,
            "grid_template_areas": null,
            "grid_template_columns": null,
            "grid_template_rows": null,
            "height": null,
            "justify_content": null,
            "justify_items": null,
            "left": null,
            "margin": null,
            "max_height": null,
            "max_width": null,
            "min_height": null,
            "min_width": null,
            "object_fit": null,
            "object_position": null,
            "order": null,
            "overflow": null,
            "overflow_x": null,
            "overflow_y": null,
            "padding": null,
            "right": null,
            "top": null,
            "visibility": null,
            "width": null
          }
        },
        "0eddfaf1a09f4e5eb732ad2884d0b50d": {
          "model_module": "@jupyter-widgets/controls",
          "model_name": "ProgressStyleModel",
          "model_module_version": "1.5.0",
          "state": {
            "_model_module": "@jupyter-widgets/controls",
            "_model_module_version": "1.5.0",
            "_model_name": "ProgressStyleModel",
            "_view_count": null,
            "_view_module": "@jupyter-widgets/base",
            "_view_module_version": "1.2.0",
            "_view_name": "StyleView",
            "bar_color": null,
            "description_width": ""
          }
        },
        "296e0a613ce149a78168d8abf1846620": {
          "model_module": "@jupyter-widgets/base",
          "model_name": "LayoutModel",
          "model_module_version": "1.2.0",
          "state": {
            "_model_module": "@jupyter-widgets/base",
            "_model_module_version": "1.2.0",
            "_model_name": "LayoutModel",
            "_view_count": null,
            "_view_module": "@jupyter-widgets/base",
            "_view_module_version": "1.2.0",
            "_view_name": "LayoutView",
            "align_content": null,
            "align_items": null,
            "align_self": null,
            "border": null,
            "bottom": null,
            "display": null,
            "flex": null,
            "flex_flow": null,
            "grid_area": null,
            "grid_auto_columns": null,
            "grid_auto_flow": null,
            "grid_auto_rows": null,
            "grid_column": null,
            "grid_gap": null,
            "grid_row": null,
            "grid_template_areas": null,
            "grid_template_columns": null,
            "grid_template_rows": null,
            "height": null,
            "justify_content": null,
            "justify_items": null,
            "left": null,
            "margin": null,
            "max_height": null,
            "max_width": null,
            "min_height": null,
            "min_width": null,
            "object_fit": null,
            "object_position": null,
            "order": null,
            "overflow": null,
            "overflow_x": null,
            "overflow_y": null,
            "padding": null,
            "right": null,
            "top": null,
            "visibility": null,
            "width": null
          }
        },
        "e761031804504fb9acb89ffdba8443c3": {
          "model_module": "@jupyter-widgets/controls",
          "model_name": "DescriptionStyleModel",
          "model_module_version": "1.5.0",
          "state": {
            "_model_module": "@jupyter-widgets/controls",
            "_model_module_version": "1.5.0",
            "_model_name": "DescriptionStyleModel",
            "_view_count": null,
            "_view_module": "@jupyter-widgets/base",
            "_view_module_version": "1.2.0",
            "_view_name": "StyleView",
            "description_width": ""
          }
        },
        "80d2315f70c64073a195c6ee0d184a09": {
          "model_module": "@jupyter-widgets/controls",
          "model_name": "HBoxModel",
          "model_module_version": "1.5.0",
          "state": {
            "_dom_classes": [],
            "_model_module": "@jupyter-widgets/controls",
            "_model_module_version": "1.5.0",
            "_model_name": "HBoxModel",
            "_view_count": null,
            "_view_module": "@jupyter-widgets/controls",
            "_view_module_version": "1.5.0",
            "_view_name": "HBoxView",
            "box_style": "",
            "children": [
              "IPY_MODEL_c6aa5890f104480b91386d6a7084c901",
              "IPY_MODEL_1ff627246d7541398fc248c612052dae",
              "IPY_MODEL_f05a8182980d45ad87e0b2938a7134fa"
            ],
            "layout": "IPY_MODEL_0837eee8642049baa81e4ed72a04dbc4"
          }
        },
        "c6aa5890f104480b91386d6a7084c901": {
          "model_module": "@jupyter-widgets/controls",
          "model_name": "HTMLModel",
          "model_module_version": "1.5.0",
          "state": {
            "_dom_classes": [],
            "_model_module": "@jupyter-widgets/controls",
            "_model_module_version": "1.5.0",
            "_model_name": "HTMLModel",
            "_view_count": null,
            "_view_module": "@jupyter-widgets/controls",
            "_view_module_version": "1.5.0",
            "_view_name": "HTMLView",
            "description": "",
            "description_tooltip": null,
            "layout": "IPY_MODEL_19885283bdd8423fbf3557d073a6a128",
            "placeholder": "​",
            "style": "IPY_MODEL_b1ef3d19c748413a91ee0e28bbf3a6a0",
            "value": "  2%"
          }
        },
        "1ff627246d7541398fc248c612052dae": {
          "model_module": "@jupyter-widgets/controls",
          "model_name": "FloatProgressModel",
          "model_module_version": "1.5.0",
          "state": {
            "_dom_classes": [],
            "_model_module": "@jupyter-widgets/controls",
            "_model_module_version": "1.5.0",
            "_model_name": "FloatProgressModel",
            "_view_count": null,
            "_view_module": "@jupyter-widgets/controls",
            "_view_module_version": "1.5.0",
            "_view_name": "ProgressView",
            "bar_style": "danger",
            "description": "",
            "description_tooltip": null,
            "layout": "IPY_MODEL_816959e6ed8b4ca9a38a53d7cdbf455a",
            "max": 125,
            "min": 0,
            "orientation": "horizontal",
            "style": "IPY_MODEL_18aa7e3b9bff4a47aa0310f1d8e6a2b2",
            "value": 3
          }
        },
        "f05a8182980d45ad87e0b2938a7134fa": {
          "model_module": "@jupyter-widgets/controls",
          "model_name": "HTMLModel",
          "model_module_version": "1.5.0",
          "state": {
            "_dom_classes": [],
            "_model_module": "@jupyter-widgets/controls",
            "_model_module_version": "1.5.0",
            "_model_name": "HTMLModel",
            "_view_count": null,
            "_view_module": "@jupyter-widgets/controls",
            "_view_module_version": "1.5.0",
            "_view_name": "HTMLView",
            "description": "",
            "description_tooltip": null,
            "layout": "IPY_MODEL_60ffc58f1cc5487a8e6f237b8e8d0c54",
            "placeholder": "​",
            "style": "IPY_MODEL_8a3db2c92d7b4b06b653fa7699b9a083",
            "value": " 3/125 [00:05&lt;02:53,  1.43s/it]"
          }
        },
        "0837eee8642049baa81e4ed72a04dbc4": {
          "model_module": "@jupyter-widgets/base",
          "model_name": "LayoutModel",
          "model_module_version": "1.2.0",
          "state": {
            "_model_module": "@jupyter-widgets/base",
            "_model_module_version": "1.2.0",
            "_model_name": "LayoutModel",
            "_view_count": null,
            "_view_module": "@jupyter-widgets/base",
            "_view_module_version": "1.2.0",
            "_view_name": "LayoutView",
            "align_content": null,
            "align_items": null,
            "align_self": null,
            "border": null,
            "bottom": null,
            "display": null,
            "flex": null,
            "flex_flow": null,
            "grid_area": null,
            "grid_auto_columns": null,
            "grid_auto_flow": null,
            "grid_auto_rows": null,
            "grid_column": null,
            "grid_gap": null,
            "grid_row": null,
            "grid_template_areas": null,
            "grid_template_columns": null,
            "grid_template_rows": null,
            "height": null,
            "justify_content": null,
            "justify_items": null,
            "left": null,
            "margin": null,
            "max_height": null,
            "max_width": null,
            "min_height": null,
            "min_width": null,
            "object_fit": null,
            "object_position": null,
            "order": null,
            "overflow": null,
            "overflow_x": null,
            "overflow_y": null,
            "padding": null,
            "right": null,
            "top": null,
            "visibility": null,
            "width": null
          }
        },
        "19885283bdd8423fbf3557d073a6a128": {
          "model_module": "@jupyter-widgets/base",
          "model_name": "LayoutModel",
          "model_module_version": "1.2.0",
          "state": {
            "_model_module": "@jupyter-widgets/base",
            "_model_module_version": "1.2.0",
            "_model_name": "LayoutModel",
            "_view_count": null,
            "_view_module": "@jupyter-widgets/base",
            "_view_module_version": "1.2.0",
            "_view_name": "LayoutView",
            "align_content": null,
            "align_items": null,
            "align_self": null,
            "border": null,
            "bottom": null,
            "display": null,
            "flex": null,
            "flex_flow": null,
            "grid_area": null,
            "grid_auto_columns": null,
            "grid_auto_flow": null,
            "grid_auto_rows": null,
            "grid_column": null,
            "grid_gap": null,
            "grid_row": null,
            "grid_template_areas": null,
            "grid_template_columns": null,
            "grid_template_rows": null,
            "height": null,
            "justify_content": null,
            "justify_items": null,
            "left": null,
            "margin": null,
            "max_height": null,
            "max_width": null,
            "min_height": null,
            "min_width": null,
            "object_fit": null,
            "object_position": null,
            "order": null,
            "overflow": null,
            "overflow_x": null,
            "overflow_y": null,
            "padding": null,
            "right": null,
            "top": null,
            "visibility": null,
            "width": null
          }
        },
        "b1ef3d19c748413a91ee0e28bbf3a6a0": {
          "model_module": "@jupyter-widgets/controls",
          "model_name": "DescriptionStyleModel",
          "model_module_version": "1.5.0",
          "state": {
            "_model_module": "@jupyter-widgets/controls",
            "_model_module_version": "1.5.0",
            "_model_name": "DescriptionStyleModel",
            "_view_count": null,
            "_view_module": "@jupyter-widgets/base",
            "_view_module_version": "1.2.0",
            "_view_name": "StyleView",
            "description_width": ""
          }
        },
        "816959e6ed8b4ca9a38a53d7cdbf455a": {
          "model_module": "@jupyter-widgets/base",
          "model_name": "LayoutModel",
          "model_module_version": "1.2.0",
          "state": {
            "_model_module": "@jupyter-widgets/base",
            "_model_module_version": "1.2.0",
            "_model_name": "LayoutModel",
            "_view_count": null,
            "_view_module": "@jupyter-widgets/base",
            "_view_module_version": "1.2.0",
            "_view_name": "LayoutView",
            "align_content": null,
            "align_items": null,
            "align_self": null,
            "border": null,
            "bottom": null,
            "display": null,
            "flex": null,
            "flex_flow": null,
            "grid_area": null,
            "grid_auto_columns": null,
            "grid_auto_flow": null,
            "grid_auto_rows": null,
            "grid_column": null,
            "grid_gap": null,
            "grid_row": null,
            "grid_template_areas": null,
            "grid_template_columns": null,
            "grid_template_rows": null,
            "height": null,
            "justify_content": null,
            "justify_items": null,
            "left": null,
            "margin": null,
            "max_height": null,
            "max_width": null,
            "min_height": null,
            "min_width": null,
            "object_fit": null,
            "object_position": null,
            "order": null,
            "overflow": null,
            "overflow_x": null,
            "overflow_y": null,
            "padding": null,
            "right": null,
            "top": null,
            "visibility": null,
            "width": null
          }
        },
        "18aa7e3b9bff4a47aa0310f1d8e6a2b2": {
          "model_module": "@jupyter-widgets/controls",
          "model_name": "ProgressStyleModel",
          "model_module_version": "1.5.0",
          "state": {
            "_model_module": "@jupyter-widgets/controls",
            "_model_module_version": "1.5.0",
            "_model_name": "ProgressStyleModel",
            "_view_count": null,
            "_view_module": "@jupyter-widgets/base",
            "_view_module_version": "1.2.0",
            "_view_name": "StyleView",
            "bar_color": null,
            "description_width": ""
          }
        },
        "60ffc58f1cc5487a8e6f237b8e8d0c54": {
          "model_module": "@jupyter-widgets/base",
          "model_name": "LayoutModel",
          "model_module_version": "1.2.0",
          "state": {
            "_model_module": "@jupyter-widgets/base",
            "_model_module_version": "1.2.0",
            "_model_name": "LayoutModel",
            "_view_count": null,
            "_view_module": "@jupyter-widgets/base",
            "_view_module_version": "1.2.0",
            "_view_name": "LayoutView",
            "align_content": null,
            "align_items": null,
            "align_self": null,
            "border": null,
            "bottom": null,
            "display": null,
            "flex": null,
            "flex_flow": null,
            "grid_area": null,
            "grid_auto_columns": null,
            "grid_auto_flow": null,
            "grid_auto_rows": null,
            "grid_column": null,
            "grid_gap": null,
            "grid_row": null,
            "grid_template_areas": null,
            "grid_template_columns": null,
            "grid_template_rows": null,
            "height": null,
            "justify_content": null,
            "justify_items": null,
            "left": null,
            "margin": null,
            "max_height": null,
            "max_width": null,
            "min_height": null,
            "min_width": null,
            "object_fit": null,
            "object_position": null,
            "order": null,
            "overflow": null,
            "overflow_x": null,
            "overflow_y": null,
            "padding": null,
            "right": null,
            "top": null,
            "visibility": null,
            "width": null
          }
        },
        "8a3db2c92d7b4b06b653fa7699b9a083": {
          "model_module": "@jupyter-widgets/controls",
          "model_name": "DescriptionStyleModel",
          "model_module_version": "1.5.0",
          "state": {
            "_model_module": "@jupyter-widgets/controls",
            "_model_module_version": "1.5.0",
            "_model_name": "DescriptionStyleModel",
            "_view_count": null,
            "_view_module": "@jupyter-widgets/base",
            "_view_module_version": "1.2.0",
            "_view_name": "StyleView",
            "description_width": ""
          }
        }
      }
    }
  },
  "cells": [
    {
      "cell_type": "markdown",
      "metadata": {
        "id": "zcA-eDbRsN1-"
      },
      "source": [
        "* The LayoutLMv2 paper: https://arxiv.org/abs/2012.14740"
      ]
    },
    {
      "cell_type": "markdown",
      "metadata": {
        "id": "HSpvNOQisMHF"
      },
      "source": [
        "## Setting up environment\n",
        "\n",
        "We install HuggingFace Transformers and Detectron2."
      ]
    },
    {
      "cell_type": "code",
      "metadata": {
        "colab": {
          "base_uri": "https://localhost:8080/"
        },
        "id": "ajmsYhCrrJrf",
        "outputId": "1ad24ce9-77de-4c12-9b86-4386741b55fb"
      },
      "source": [
        "!pip install -q git+https://github.com/huggingface/transformers.git"
      ],
      "execution_count": null,
      "outputs": [
        {
          "output_type": "stream",
          "name": "stdout",
          "text": [
            "  Installing build dependencies ... \u001b[?25l\u001b[?25hdone\n",
            "  Getting requirements to build wheel ... \u001b[?25l\u001b[?25hdone\n",
            "  Preparing metadata (pyproject.toml) ... \u001b[?25l\u001b[?25hdone\n"
          ]
        }
      ]
    },
    {
      "cell_type": "code",
      "source": [
        "!python -m pip install -q 'git+https://github.com/facebookresearch/detectron2.git'"
      ],
      "metadata": {
        "colab": {
          "base_uri": "https://localhost:8080/"
        },
        "id": "X4lZdh_FwaLR",
        "outputId": "7c1e0304-ba32-42a5-bab7-92ac7a186b8e"
      },
      "execution_count": null,
      "outputs": [
        {
          "output_type": "stream",
          "name": "stdout",
          "text": [
            "  Preparing metadata (setup.py) ... \u001b[?25l\u001b[?25hdone\n",
            "\u001b[31mERROR: Operation cancelled by user\u001b[0m\u001b[31m\n",
            "\u001b[0mTraceback (most recent call last):\n",
            "  File \"/usr/local/lib/python3.10/dist-packages/pip/_vendor/pkg_resources/__init__.py\", line 3108, in _dep_map\n",
            "    return self.__dep_map\n",
            "  File \"/usr/local/lib/python3.10/dist-packages/pip/_vendor/pkg_resources/__init__.py\", line 2901, in __getattr__\n",
            "    raise AttributeError(attr)\n",
            "AttributeError: _DistInfoDistribution__dep_map\n",
            "\n",
            "During handling of the above exception, another exception occurred:\n",
            "\n",
            "Traceback (most recent call last):\n",
            "  File \"/usr/local/lib/python3.10/dist-packages/pip/_internal/cli/base_command.py\", line 169, in exc_logging_wrapper\n",
            "    status = run_func(*args)\n",
            "  File \"/usr/local/lib/python3.10/dist-packages/pip/_internal/cli/req_command.py\", line 242, in wrapper\n",
            "    return func(self, options, args)\n",
            "  File \"/usr/local/lib/python3.10/dist-packages/pip/_internal/commands/install.py\", line 441, in run\n",
            "    conflicts = self._determine_conflicts(to_install)\n",
            "  File \"/usr/local/lib/python3.10/dist-packages/pip/_internal/commands/install.py\", line 572, in _determine_conflicts\n",
            "    return check_install_conflicts(to_install)\n",
            "  File \"/usr/local/lib/python3.10/dist-packages/pip/_internal/operations/check.py\", line 101, in check_install_conflicts\n",
            "    package_set, _ = create_package_set_from_installed()\n",
            "  File \"/usr/local/lib/python3.10/dist-packages/pip/_internal/operations/check.py\", line 42, in create_package_set_from_installed\n",
            "    dependencies = list(dist.iter_dependencies())\n",
            "  File \"/usr/local/lib/python3.10/dist-packages/pip/_internal/metadata/pkg_resources.py\", line 216, in iter_dependencies\n",
            "    return self._dist.requires(extras)\n",
            "  File \"/usr/local/lib/python3.10/dist-packages/pip/_vendor/pkg_resources/__init__.py\", line 2821, in requires\n",
            "    dm = self._dep_map\n",
            "  File \"/usr/local/lib/python3.10/dist-packages/pip/_vendor/pkg_resources/__init__.py\", line 3110, in _dep_map\n",
            "    self.__dep_map = self._compute_dependencies()\n",
            "  File \"/usr/local/lib/python3.10/dist-packages/pip/_vendor/pkg_resources/__init__.py\", line 3120, in _compute_dependencies\n",
            "    reqs.extend(parse_requirements(req))\n",
            "  File \"/usr/local/lib/python3.10/dist-packages/pip/_vendor/pkg_resources/__init__.py\", line 3173, in __init__\n",
            "    super(Requirement, self).__init__(requirement_string)\n",
            "  File \"/usr/local/lib/python3.10/dist-packages/pip/_vendor/packaging/requirements.py\", line 102, in __init__\n",
            "    req = REQUIREMENT.parseString(requirement_string)\n",
            "  File \"/usr/local/lib/python3.10/dist-packages/pip/_vendor/pyparsing/core.py\", line 1131, in parse_string\n",
            "    loc, tokens = self._parse(instring, 0)\n",
            "  File \"/usr/local/lib/python3.10/dist-packages/pip/_vendor/pyparsing/core.py\", line 817, in _parseNoCache\n",
            "    loc, tokens = self.parseImpl(instring, pre_loc, doActions)\n",
            "  File \"/usr/local/lib/python3.10/dist-packages/pip/_vendor/pyparsing/core.py\", line 3886, in parseImpl\n",
            "    loc, exprtokens = e._parse(instring, loc, doActions)\n",
            "  File \"/usr/local/lib/python3.10/dist-packages/pip/_vendor/pyparsing/core.py\", line 817, in _parseNoCache\n",
            "    loc, tokens = self.parseImpl(instring, pre_loc, doActions)\n",
            "  File \"/usr/local/lib/python3.10/dist-packages/pip/_vendor/pyparsing/core.py\", line 4114, in parseImpl\n",
            "    return e._parse(\n",
            "  File \"/usr/local/lib/python3.10/dist-packages/pip/_vendor/pyparsing/core.py\", line 817, in _parseNoCache\n",
            "    loc, tokens = self.parseImpl(instring, pre_loc, doActions)\n",
            "  File \"/usr/local/lib/python3.10/dist-packages/pip/_vendor/pyparsing/core.py\", line 3864, in parseImpl\n",
            "    loc, resultlist = self.exprs[0]._parse(\n",
            "  File \"/usr/local/lib/python3.10/dist-packages/pip/_vendor/pyparsing/core.py\", line 817, in _parseNoCache\n",
            "    loc, tokens = self.parseImpl(instring, pre_loc, doActions)\n",
            "  File \"/usr/local/lib/python3.10/dist-packages/pip/_vendor/pyparsing/core.py\", line 3886, in parseImpl\n",
            "    loc, exprtokens = e._parse(instring, loc, doActions)\n",
            "  File \"/usr/local/lib/python3.10/dist-packages/pip/_vendor/pyparsing/core.py\", line 862, in _parseNoCache\n",
            "    ret_tokens = ParseResults(\n",
            "  File \"/usr/local/lib/python3.10/dist-packages/pip/_vendor/pyparsing/results.py\", line 144, in __new__\n",
            "    if toklist is None:\n",
            "KeyboardInterrupt\n",
            "\n",
            "During handling of the above exception, another exception occurred:\n",
            "\n",
            "Traceback (most recent call last):\n",
            "  File \"/usr/lib/python3.10/runpy.py\", line 196, in _run_module_as_main\n",
            "    return _run_code(code, main_globals, None,\n",
            "  File \"/usr/lib/python3.10/runpy.py\", line 86, in _run_code\n",
            "    exec(code, run_globals)\n",
            "  File \"/usr/local/lib/python3.10/dist-packages/pip/__main__.py\", line 31, in <module>\n",
            "    sys.exit(_main())\n",
            "  File \"/usr/local/lib/python3.10/dist-packages/pip/_internal/cli/main.py\", line 79, in main\n",
            "    return command.main(cmd_args)\n",
            "  File \"/usr/local/lib/python3.10/dist-packages/pip/_internal/cli/base_command.py\", line 101, in main\n",
            "    return self._main(args)\n",
            "  File \"/usr/local/lib/python3.10/dist-packages/pip/_internal/cli/base_command.py\", line 223, in _main\n",
            "    return run(options, args)\n",
            "  File \"/usr/local/lib/python3.10/dist-packages/pip/_internal/cli/base_command.py\", line 207, in exc_logging_wrapper\n",
            "    logger.debug(\"Exception information:\", exc_info=True)\n",
            "  File \"/usr/lib/python3.10/logging/__init__.py\", line 1465, in debug\n",
            "    self._log(DEBUG, msg, args, **kwargs)\n",
            "  File \"/usr/lib/python3.10/logging/__init__.py\", line 1624, in _log\n",
            "    self.handle(record)\n",
            "  File \"/usr/lib/python3.10/logging/__init__.py\", line 1634, in handle\n",
            "    self.callHandlers(record)\n",
            "  File \"/usr/lib/python3.10/logging/__init__.py\", line 1696, in callHandlers\n",
            "    hdlr.handle(record)\n",
            "  File \"/usr/lib/python3.10/logging/__init__.py\", line 968, in handle\n",
            "    self.emit(record)\n",
            "  File \"/usr/lib/python3.10/logging/handlers.py\", line 75, in emit\n",
            "    logging.FileHandler.emit(self, record)\n",
            "  File \"/usr/lib/python3.10/logging/__init__.py\", line 1218, in emit\n",
            "    StreamHandler.emit(self, record)\n",
            "  File \"/usr/lib/python3.10/logging/__init__.py\", line 1100, in emit\n",
            "    msg = self.format(record)\n",
            "  File \"/usr/lib/python3.10/logging/__init__.py\", line 943, in format\n",
            "    return fmt.format(record)\n",
            "  File \"/usr/local/lib/python3.10/dist-packages/pip/_internal/utils/logging.py\", line 112, in format\n",
            "    formatted = super().format(record)\n",
            "  File \"/usr/lib/python3.10/logging/__init__.py\", line 686, in format\n",
            "    record.exc_text = self.formatException(record.exc_info)\n",
            "  File \"/usr/lib/python3.10/logging/__init__.py\", line 636, in formatException\n",
            "    traceback.print_exception(ei[0], ei[1], tb, None, sio)\n",
            "  File \"/usr/lib/python3.10/traceback.py\", line 119, in print_exception\n",
            "    te = TracebackException(type(value), value, tb, limit=limit, compact=True)\n",
            "  File \"/usr/lib/python3.10/traceback.py\", line 502, in __init__\n",
            "    self.stack = StackSummary.extract(\n",
            "  File \"/usr/lib/python3.10/traceback.py\", line 383, in extract\n",
            "    f.line\n",
            "  File \"/usr/lib/python3.10/traceback.py\", line 306, in line\n",
            "    self._line = linecache.getline(self.filename, self.lineno)\n",
            "  File \"/usr/lib/python3.10/linecache.py\", line 30, in getline\n",
            "    lines = getlines(filename, module_globals)\n",
            "  File \"/usr/lib/python3.10/linecache.py\", line 46, in getlines\n",
            "    return updatecache(filename, module_globals)\n",
            "  File \"/usr/lib/python3.10/linecache.py\", line 136, in updatecache\n",
            "    with tokenize.open(fullname) as fp:\n",
            "  File \"/usr/lib/python3.10/tokenize.py\", line 396, in open\n",
            "    encoding, lines = detect_encoding(buffer.readline)\n",
            "  File \"/usr/lib/python3.10/tokenize.py\", line 365, in detect_encoding\n",
            "    first = read_or_stop()\n",
            "  File \"/usr/lib/python3.10/tokenize.py\", line 323, in read_or_stop\n",
            "    return readline()\n",
            "KeyboardInterrupt\n",
            "^C\n"
          ]
        }
      ]
    },
    {
      "cell_type": "code",
      "metadata": {
        "id": "IZ-YCl3psbhr",
        "colab": {
          "base_uri": "https://localhost:8080/"
        },
        "outputId": "4be2048b-4db3-4bfd-9c6d-e4b132218f79"
      },
      "source": [
        "!pip install pyyaml"
      ],
      "execution_count": null,
      "outputs": [
        {
          "output_type": "stream",
          "name": "stdout",
          "text": [
            "Requirement already satisfied: pyyaml in /usr/local/lib/python3.10/dist-packages (6.0.1)\n",
            "\u001b[31mERROR: Operation cancelled by user\u001b[0m\u001b[31m\n",
            "\u001b[0m"
          ]
        }
      ]
    },
    {
      "cell_type": "code",
      "metadata": {
        "id": "W--1--dfwFrd",
        "colab": {
          "base_uri": "https://localhost:8080/"
        },
        "outputId": "16884417-8845-43e8-da6b-fbbcd6042da2"
      },
      "source": [
        "!pip install -q datasets"
      ],
      "execution_count": null,
      "outputs": [
        {
          "output_type": "stream",
          "name": "stdout",
          "text": [
            "\u001b[2K     \u001b[90m━━━━━━━━━━━━━━━━━━━━━━━━━━━━━━━━━━━━━━━━\u001b[0m \u001b[32m521.2/521.2 kB\u001b[0m \u001b[31m10.8 MB/s\u001b[0m eta \u001b[36m0:00:00\u001b[0m\n",
            "\u001b[2K     \u001b[90m━━━━━━━━━━━━━━━━━━━━━━━━━━━━━━━━━━━━━━━━\u001b[0m \u001b[32m115.3/115.3 kB\u001b[0m \u001b[31m17.2 MB/s\u001b[0m eta \u001b[36m0:00:00\u001b[0m\n",
            "\u001b[2K     \u001b[90m━━━━━━━━━━━━━━━━━━━━━━━━━━━━━━━━━━━━━━━━\u001b[0m \u001b[32m134.8/134.8 kB\u001b[0m \u001b[31m18.7 MB/s\u001b[0m eta \u001b[36m0:00:00\u001b[0m\n",
            "\u001b[?25h"
          ]
        }
      ]
    },
    {
      "cell_type": "markdown",
      "metadata": {
        "id": "lAAP2zLitLx0"
      },
      "source": [
        "We also install PyTesseract:"
      ]
    },
    {
      "cell_type": "code",
      "source": [
        "from google.colab import drive\n",
        "drive.mount('/content/drive')"
      ],
      "metadata": {
        "colab": {
          "base_uri": "https://localhost:8080/"
        },
        "id": "1W69TcYCx1qz",
        "outputId": "b3b9efc5-5a8d-49b4-eaa9-7448511bd8b9"
      },
      "execution_count": null,
      "outputs": [
        {
          "output_type": "stream",
          "name": "stdout",
          "text": [
            "Mounted at /content/drive\n"
          ]
        }
      ]
    },
    {
      "cell_type": "code",
      "metadata": {
        "colab": {
          "base_uri": "https://localhost:8080/"
        },
        "id": "82ay-D49tLf_",
        "outputId": "3313475c-5be1-4415-b47a-dfce32ae2bfa"
      },
      "source": [
        "! sudo apt install tesseract-ocr\n",
        "! pip install -q pytesseract"
      ],
      "execution_count": null,
      "outputs": [
        {
          "output_type": "stream",
          "name": "stdout",
          "text": [
            "Reading package lists... Done\n",
            "Building dependency tree... Done\n",
            "Reading state information... Done\n",
            "The following additional packages will be installed:\n",
            "  tesseract-ocr-eng tesseract-ocr-osd\n",
            "The following NEW packages will be installed:\n",
            "  tesseract-ocr tesseract-ocr-eng tesseract-ocr-osd\n",
            "0 upgraded, 3 newly installed, 0 to remove and 15 not upgraded.\n",
            "Need to get 4,816 kB of archives.\n",
            "After this operation, 15.6 MB of additional disk space will be used.\n",
            "Get:1 http://archive.ubuntu.com/ubuntu jammy/universe amd64 tesseract-ocr-eng all 1:4.00~git30-7274cfa-1.1 [1,591 kB]\n",
            "Get:2 http://archive.ubuntu.com/ubuntu jammy/universe amd64 tesseract-ocr-osd all 1:4.00~git30-7274cfa-1.1 [2,990 kB]\n",
            "Get:3 http://archive.ubuntu.com/ubuntu jammy/universe amd64 tesseract-ocr amd64 4.1.1-2.1build1 [236 kB]\n",
            "Fetched 4,816 kB in 1s (4,816 kB/s)\n",
            "debconf: unable to initialize frontend: Dialog\n",
            "debconf: (No usable dialog-like program is installed, so the dialog based frontend cannot be used. at /usr/share/perl5/Debconf/FrontEnd/Dialog.pm line 78, <> line 3.)\n",
            "debconf: falling back to frontend: Readline\n",
            "debconf: unable to initialize frontend: Readline\n",
            "debconf: (This frontend requires a controlling tty.)\n",
            "debconf: falling back to frontend: Teletype\n",
            "dpkg-preconfigure: unable to re-open stdin: \n",
            "Selecting previously unselected package tesseract-ocr-eng.\n",
            "(Reading database ... 120882 files and directories currently installed.)\n",
            "Preparing to unpack .../tesseract-ocr-eng_1%3a4.00~git30-7274cfa-1.1_all.deb ...\n",
            "Unpacking tesseract-ocr-eng (1:4.00~git30-7274cfa-1.1) ...\n",
            "Selecting previously unselected package tesseract-ocr-osd.\n",
            "Preparing to unpack .../tesseract-ocr-osd_1%3a4.00~git30-7274cfa-1.1_all.deb ...\n",
            "Unpacking tesseract-ocr-osd (1:4.00~git30-7274cfa-1.1) ...\n",
            "Selecting previously unselected package tesseract-ocr.\n",
            "Preparing to unpack .../tesseract-ocr_4.1.1-2.1build1_amd64.deb ...\n",
            "Unpacking tesseract-ocr (4.1.1-2.1build1) ...\n",
            "Setting up tesseract-ocr-eng (1:4.00~git30-7274cfa-1.1) ...\n",
            "Setting up tesseract-ocr-osd (1:4.00~git30-7274cfa-1.1) ...\n",
            "Setting up tesseract-ocr (4.1.1-2.1build1) ...\n",
            "Processing triggers for man-db (2.10.2-1) ...\n"
          ]
        }
      ]
    },
    {
      "cell_type": "code",
      "metadata": {
        "colab": {
          "base_uri": "https://localhost:8080/",
          "height": 1000
        },
        "id": "OfeUA_IDsuK4",
        "outputId": "140224ae-584c-4414-a465-43e5461ab115"
      },
      "source": [
        "from PIL import Image, ImageDraw, ImageFont\n",
        "\n",
        "image = Image.open(\"/content/drive/MyDrive/rvl_cdip_1000_samples/images/13/image_0009.png\")\n",
        "image = image.convert(\"RGB\")\n",
        "image"
      ],
      "execution_count": null,
      "outputs": [
        {
          "output_type": "execute_result",
          "data": {
            "text/plain": [
              "<PIL.Image.Image image mode=RGB size=754x1000>"
            ],
            "image/png": "[encoded data removed]"
          },
          "metadata": {},
          "execution_count": 9
        }
      ]
    },
    {
      "cell_type": "markdown",
      "metadata": {
        "id": "h3m130UjtGia"
      },
      "source": [
        "We can use the Tesseract OCR engine to turn the image into a list of recognized words:"
      ]
    },
    {
      "cell_type": "code",
      "metadata": {
        "colab": {
          "base_uri": "https://localhost:8080/",
          "height": 71
        },
        "id": "l9nYK4YJswdC",
        "outputId": "7d5391ed-ad54-4cd6-bf9a-406298e03195"
      },
      "source": [
        "import pytesseract\n",
        "import numpy as np\n",
        "\n",
        "ocr_df = pytesseract.image_to_data(image, output_type='data.frame')\n",
        "ocr_df = ocr_df.dropna().reset_index(drop=True)\n",
        "float_cols = ocr_df.select_dtypes('float').columns\n",
        "ocr_df[float_cols] = ocr_df[float_cols].round(0).astype(int)\n",
        "ocr_df = ocr_df.replace(r'^\\s*$', np.nan, regex=True)\n",
        "words = ' '.join([word for word in ocr_df.text if str(word) != 'nan'])\n",
        "words"
      ],
      "execution_count": null,
      "outputs": [
        {
          "output_type": "execute_result",
          "data": {
            "text/plain": [
              "'ATTACHMENT I MALE Appointment Dates, Time: 10:, (1-3) FEMALE Name : Tel.#:( _) Home Address: Work/ ‘Alternate Citys, States, Interviewer: Date: + \\'Do you smoke cigarettes?\" Yes. ++ 1 CONTINUE No..ssesesee 2 ASK IF ANYONE ELSE IN HOUSEHOLD SMOKES 2. \"To be sure we are including people of all ages in our survey, please tell me which of the following best described your age - Are you...\" Under 18. 18-24.. 25-34. 35-44 45-54. 55-64.. 65 or over. In the average, how many cigarettes do you smoke per day? (WRITE Tit (MUST SMOKE AT LEAST 20 CIGARETTES PER DAY TO CONTINUE) ovgL €0L0S -26-'"
            ],
            "application/vnd.google.colaboratory.intrinsic+json": {
              "type": "string"
            }
          },
          "metadata": {},
          "execution_count": 10
        }
      ]
    },
    {
      "cell_type": "markdown",
      "metadata": {
        "id": "sJddpf5ito_7"
      },
      "source": [
        "\n",
        "LayoutLMv2Processor uses internal OCR engine to generate inpu_ids, attention_masks,token_type_ids, and bbox for layout and text extraction. However, one can use external OCRs too and plug in the words to the processor. For simplicity, here we use the internal OCR.\n"
      ]
    },
    {
      "cell_type": "code",
      "metadata": {
        "id": "fhnBHY_KwvZm",
        "colab": {
          "base_uri": "https://localhost:8080/"
        },
        "outputId": "eabf1d7e-44bd-4fd4-8c2b-2ff9083900da"
      },
      "source": [
        "\n",
        "from transformers import LayoutLMv2ImageProcessor, LayoutLMv2TokenizerFast, LayoutLMv2Processor, LayoutLMv2Tokenizer\n",
        "\n",
        "image_processor = LayoutLMv2ImageProcessor()\n",
        "print(image_processor)  # apply_ocr is set to True by default\n",
        "tokenizer = LayoutLMv2Tokenizer.from_pretrained(\"microsoft/layoutlmv2-base-uncased\") #Not using fast tokenizer as it was less accurate\n",
        "processor = LayoutLMv2Processor(image_processor, tokenizer)"
      ],
      "execution_count": null,
      "outputs": [
        {
          "output_type": "stream",
          "name": "stdout",
          "text": [
            "LayoutLMv2ImageProcessor {\n",
            "  \"apply_ocr\": true,\n",
            "  \"do_resize\": true,\n",
            "  \"image_processor_type\": \"LayoutLMv2ImageProcessor\",\n",
            "  \"ocr_lang\": null,\n",
            "  \"resample\": 2,\n",
            "  \"size\": {\n",
            "    \"height\": 224,\n",
            "    \"width\": 224\n",
            "  },\n",
            "  \"tesseract_config\": \"\"\n",
            "}\n",
            "\n"
          ]
        }
      ]
    },
    {
      "cell_type": "code",
      "metadata": {
        "id": "-yLaOFB9wwcy"
      },
      "source": [
        "encoded_inputs = processor(image, return_tensors=\"pt\")"
      ],
      "execution_count": null,
      "outputs": []
    },
    {
      "cell_type": "code",
      "metadata": {
        "colab": {
          "base_uri": "https://localhost:8080/"
        },
        "id": "pt1Mz59_xAGu",
        "outputId": "ab29eba3-52b1-467f-acc9-93b23a9192d6"
      },
      "source": [
        "for k,v in encoded_inputs.items():\n",
        "  print(k, v.shape)"
      ],
      "execution_count": null,
      "outputs": [
        {
          "output_type": "stream",
          "name": "stdout",
          "text": [
            "input_ids torch.Size([1, 176])\n",
            "bbox torch.Size([1, 176, 4])\n",
            "token_type_ids torch.Size([1, 176])\n",
            "attention_mask torch.Size([1, 176])\n",
            "image torch.Size([1, 3, 224, 224])\n"
          ]
        }
      ]
    },
    {
      "cell_type": "markdown",
      "metadata": {
        "id": "a1lmsz_UxD83"
      },
      "source": [
        "Check whether the input_ids are created correctly by decoding them back to text:"
      ]
    },
    {
      "cell_type": "code",
      "metadata": {
        "colab": {
          "base_uri": "https://localhost:8080/",
          "height": 71
        },
        "id": "XgT93GFwxHvv",
        "outputId": "b545f4e4-e380-4536-ccee-23c83d0a16bc"
      },
      "source": [
        "processor.tokenizer.decode(encoded_inputs.input_ids.squeeze().tolist())"
      ],
      "execution_count": null,
      "outputs": [
        {
          "output_type": "execute_result",
          "data": {
            "text/plain": [
              "'[CLS] attachment i male appointment dates, time : 10 :, ( 1 - 3 ) female name : tel. # : ( _ ) home address : work / ‘ alternate citys, states, interviewer : date : +\\'do you smoke cigarettes? \" yes. + + 1 continue no.. ssesesee 2 ask if anyone else in household smokes 2. \" to be sure we are including people of all ages in our survey, please tell me which of the following best described your age - are you... \" under 18. 18 - 24.. 25 - 34. 35 - 44 45 - 54. 55 - 64.. 65 or over. in the average, how many cigarettes do you smoke per day? ( write tit ( must smoke at least 20 cigarettes per day to continue ) ovgl €0l0s - 26 - [SEP]'"
            ],
            "application/vnd.google.colaboratory.intrinsic+json": {
              "type": "string"
            }
          },
          "metadata": {},
          "execution_count": 19
        }
      ]
    },
    {
      "cell_type": "markdown",
      "metadata": {
        "id": "XKRHHvTGx6uY"
      },
      "source": [
        "Note that it also adds the special tokens ([CLS] and [SEP]). You can also pad to a max length, truncate, etc., just like you would do with a regular tokenizer."
      ]
    },
    {
      "cell_type": "markdown",
      "metadata": {
        "id": "UQzO3RLQwWjW"
      },
      "source": [
        "## Preprocessing the data using huggingface datasets\n",
        "\n",
        "First, we convert the dataset into a Pandas dataframe, having 2 columns: image_path and label."
      ]
    },
    {
      "cell_type": "code",
      "metadata": {
        "id": "hs3qHEUowRyW",
        "colab": {
          "base_uri": "https://localhost:8080/"
        },
        "outputId": "e7567fdc-2e17-48af-8d9d-7914352ca51f"
      },
      "source": [
        "import pandas as pd\n",
        "import os\n",
        "\n",
        "dataset_path = \"/content/drive/MyDrive/rvl_cdip_1000_samples/images\"\n",
        "labels = [label for label in os.listdir(dataset_path)]\n",
        "id2label = {v: k for v, k in enumerate(labels)}\n",
        "label2id = {k: v for v, k in enumerate(labels)}\n",
        "label2id"
      ],
      "execution_count": null,
      "outputs": [
        {
          "output_type": "execute_result",
          "data": {
            "text/plain": [
              "{'5': 0,\n",
              " '14': 1,\n",
              " '15': 2,\n",
              " '7': 3,\n",
              " '8': 4,\n",
              " '4': 5,\n",
              " '6': 6,\n",
              " '3': 7,\n",
              " '9': 8,\n",
              " '2': 9,\n",
              " '10': 10,\n",
              " '12': 11,\n",
              " '11': 12,\n",
              " '0': 13,\n",
              " '1': 14,\n",
              " '13': 15}"
            ]
          },
          "metadata": {},
          "execution_count": 22
        }
      ]
    },
    {
      "cell_type": "code",
      "source": [
        "images = []\n",
        "labels = []\n",
        "\n",
        "# Traverse through the directory and its subdirectories\n",
        "for root, dirs, files in os.walk(dataset_path):\n",
        "    for file in files:\n",
        "        if file.endswith('.jpg') or file.endswith('.png') or file.endswith('.jpeg'):\n",
        "            images.append(os.path.join(root, file))\n",
        "            labels.append(os.path.basename(root))\n",
        "\n",
        "# Create a pandas DataFrame\n",
        "data = {'image_path': images, 'label': labels}\n",
        "data = pd.DataFrame(data)\n",
        "data.head()"
      ],
      "metadata": {
        "colab": {
          "base_uri": "https://localhost:8080/",
          "height": 206
        },
        "id": "0GIoG6fj3QE5",
        "outputId": "53c425f5-d3ae-44f7-94aa-2e81e0049cc3"
      },
      "execution_count": null,
      "outputs": [
        {
          "output_type": "execute_result",
          "data": {
            "text/plain": [
              "                                          image_path label\n",
              "0  /content/drive/MyDrive/rvl_cdip_1000_samples/i...     5\n",
              "1  /content/drive/MyDrive/rvl_cdip_1000_samples/i...     5\n",
              "2  /content/drive/MyDrive/rvl_cdip_1000_samples/i...     5\n",
              "3  /content/drive/MyDrive/rvl_cdip_1000_samples/i...     5\n",
              "4  /content/drive/MyDrive/rvl_cdip_1000_samples/i...     5"
            ],
            "text/html": [
              "\n",
              "  <div id=\"df-600bb4da-5fa9-4d4c-9116-6336726a35e0\" class=\"colab-df-container\">\n",
              "    <div>\n",
              "<style scoped>\n",
              "    .dataframe tbody tr th:only-of-type {\n",
              "        vertical-align: middle;\n",
              "    }\n",
              "\n",
              "    .dataframe tbody tr th {\n",
              "        vertical-align: top;\n",
              "    }\n",
              "\n",
              "    .dataframe thead th {\n",
              "        text-align: right;\n",
              "    }\n",
              "</style>\n",
              "<table border=\"1\" class=\"dataframe\">\n",
              "  <thead>\n",
              "    <tr style=\"text-align: right;\">\n",
              "      <th></th>\n",
              "      <th>image_path</th>\n",
              "      <th>label</th>\n",
              "    </tr>\n",
              "  </thead>\n",
              "  <tbody>\n",
              "    <tr>\n",
              "      <th>0</th>\n",
              "      <td>/content/drive/MyDrive/rvl_cdip_1000_samples/i...</td>\n",
              "      <td>5</td>\n",
              "    </tr>\n",
              "    <tr>\n",
              "      <th>1</th>\n",
              "      <td>/content/drive/MyDrive/rvl_cdip_1000_samples/i...</td>\n",
              "      <td>5</td>\n",
              "    </tr>\n",
              "    <tr>\n",
              "      <th>2</th>\n",
              "      <td>/content/drive/MyDrive/rvl_cdip_1000_samples/i...</td>\n",
              "      <td>5</td>\n",
              "    </tr>\n",
              "    <tr>\n",
              "      <th>3</th>\n",
              "      <td>/content/drive/MyDrive/rvl_cdip_1000_samples/i...</td>\n",
              "      <td>5</td>\n",
              "    </tr>\n",
              "    <tr>\n",
              "      <th>4</th>\n",
              "      <td>/content/drive/MyDrive/rvl_cdip_1000_samples/i...</td>\n",
              "      <td>5</td>\n",
              "    </tr>\n",
              "  </tbody>\n",
              "</table>\n",
              "</div>\n",
              "    <div class=\"colab-df-buttons\">\n",
              "\n",
              "  <div class=\"colab-df-container\">\n",
              "    <button class=\"colab-df-convert\" onclick=\"convertToInteractive('df-600bb4da-5fa9-4d4c-9116-6336726a35e0')\"\n",
              "            title=\"Convert this dataframe to an interactive table.\"\n",
              "            style=\"display:none;\">\n",
              "\n",
              "  <svg xmlns=\"http://www.w3.org/2000/svg\" height=\"24px\" viewBox=\"0 -960 960 960\">\n",
              "    <path d=\"M120-120v-720h720v720H120Zm60-500h600v-160H180v160Zm220 220h160v-160H400v160Zm0 220h160v-160H400v160ZM180-400h160v-160H180v160Zm440 0h160v-160H620v160ZM180-180h160v-160H180v160Zm440 0h160v-160H620v160Z\"/>\n",
              "  </svg>\n",
              "    </button>\n",
              "\n",
              "  <style>\n",
              "    .colab-df-container {\n",
              "      display:flex;\n",
              "      gap: 12px;\n",
              "    }\n",
              "\n",
              "    .colab-df-convert {\n",
              "      background-color: #E8F0FE;\n",
              "      border: none;\n",
              "      border-radius: 50%;\n",
              "      cursor: pointer;\n",
              "      display: none;\n",
              "      fill: #1967D2;\n",
              "      height: 32px;\n",
              "      padding: 0 0 0 0;\n",
              "      width: 32px;\n",
              "    }\n",
              "\n",
              "    .colab-df-convert:hover {\n",
              "      background-color: #E2EBFA;\n",
              "      box-shadow: 0px 1px 2px rgba(60, 64, 67, 0.3), 0px 1px 3px 1px rgba(60, 64, 67, 0.15);\n",
              "      fill: #174EA6;\n",
              "    }\n",
              "\n",
              "    .colab-df-buttons div {\n",
              "      margin-bottom: 4px;\n",
              "    }\n",
              "\n",
              "    [theme=dark] .colab-df-convert {\n",
              "      background-color: #3B4455;\n",
              "      fill: #D2E3FC;\n",
              "    }\n",
              "\n",
              "    [theme=dark] .colab-df-convert:hover {\n",
              "      background-color: #434B5C;\n",
              "      box-shadow: 0px 1px 3px 1px rgba(0, 0, 0, 0.15);\n",
              "      filter: drop-shadow(0px 1px 2px rgba(0, 0, 0, 0.3));\n",
              "      fill: #FFFFFF;\n",
              "    }\n",
              "  </style>\n",
              "\n",
              "    <script>\n",
              "      const buttonEl =\n",
              "        document.querySelector('#df-600bb4da-5fa9-4d4c-9116-6336726a35e0 button.colab-df-convert');\n",
              "      buttonEl.style.display =\n",
              "        google.colab.kernel.accessAllowed ? 'block' : 'none';\n",
              "\n",
              "      async function convertToInteractive(key) {\n",
              "        const element = document.querySelector('#df-600bb4da-5fa9-4d4c-9116-6336726a35e0');\n",
              "        const dataTable =\n",
              "          await google.colab.kernel.invokeFunction('convertToInteractive',\n",
              "                                                    [key], {});\n",
              "        if (!dataTable) return;\n",
              "\n",
              "        const docLinkHtml = 'Like what you see? Visit the ' +\n",
              "          '<a target=\"_blank\" href=https://colab.research.google.com/notebooks/data_table.ipynb>data table notebook</a>'\n",
              "          + ' to learn more about interactive tables.';\n",
              "        element.innerHTML = '';\n",
              "        dataTable['output_type'] = 'display_data';\n",
              "        await google.colab.output.renderOutput(dataTable, element);\n",
              "        const docLink = document.createElement('div');\n",
              "        docLink.innerHTML = docLinkHtml;\n",
              "        element.appendChild(docLink);\n",
              "      }\n",
              "    </script>\n",
              "  </div>\n",
              "\n",
              "\n",
              "<div id=\"df-9e8f7626-7061-45ed-9f9d-175dbe7648bf\">\n",
              "  <button class=\"colab-df-quickchart\" onclick=\"quickchart('df-9e8f7626-7061-45ed-9f9d-175dbe7648bf')\"\n",
              "            title=\"Suggest charts\"\n",
              "            style=\"display:none;\">\n",
              "\n",
              "<svg xmlns=\"http://www.w3.org/2000/svg\" height=\"24px\"viewBox=\"0 0 24 24\"\n",
              "     width=\"24px\">\n",
              "    <g>\n",
              "        <path d=\"M19 3H5c-1.1 0-2 .9-2 2v14c0 1.1.9 2 2 2h14c1.1 0 2-.9 2-2V5c0-1.1-.9-2-2-2zM9 17H7v-7h2v7zm4 0h-2V7h2v10zm4 0h-2v-4h2v4z\"/>\n",
              "    </g>\n",
              "</svg>\n",
              "  </button>\n",
              "\n",
              "<style>\n",
              "  .colab-df-quickchart {\n",
              "      --bg-color: #E8F0FE;\n",
              "      --fill-color: #1967D2;\n",
              "      --hover-bg-color: #E2EBFA;\n",
              "      --hover-fill-color: #174EA6;\n",
              "      --disabled-fill-color: #AAA;\n",
              "      --disabled-bg-color: #DDD;\n",
              "  }\n",
              "\n",
              "  [theme=dark] .colab-df-quickchart {\n",
              "      --bg-color: #3B4455;\n",
              "      --fill-color: #D2E3FC;\n",
              "      --hover-bg-color: #434B5C;\n",
              "      --hover-fill-color: #FFFFFF;\n",
              "      --disabled-bg-color: #3B4455;\n",
              "      --disabled-fill-color: #666;\n",
              "  }\n",
              "\n",
              "  .colab-df-quickchart {\n",
              "    background-color: var(--bg-color);\n",
              "    border: none;\n",
              "    border-radius: 50%;\n",
              "    cursor: pointer;\n",
              "    display: none;\n",
              "    fill: var(--fill-color);\n",
              "    height: 32px;\n",
              "    padding: 0;\n",
              "    width: 32px;\n",
              "  }\n",
              "\n",
              "  .colab-df-quickchart:hover {\n",
              "    background-color: var(--hover-bg-color);\n",
              "    box-shadow: 0 1px 2px rgba(60, 64, 67, 0.3), 0 1px 3px 1px rgba(60, 64, 67, 0.15);\n",
              "    fill: var(--button-hover-fill-color);\n",
              "  }\n",
              "\n",
              "  .colab-df-quickchart-complete:disabled,\n",
              "  .colab-df-quickchart-complete:disabled:hover {\n",
              "    background-color: var(--disabled-bg-color);\n",
              "    fill: var(--disabled-fill-color);\n",
              "    box-shadow: none;\n",
              "  }\n",
              "\n",
              "  .colab-df-spinner {\n",
              "    border: 2px solid var(--fill-color);\n",
              "    border-color: transparent;\n",
              "    border-bottom-color: var(--fill-color);\n",
              "    animation:\n",
              "      spin 1s steps(1) infinite;\n",
              "  }\n",
              "\n",
              "  @keyframes spin {\n",
              "    0% {\n",
              "      border-color: transparent;\n",
              "      border-bottom-color: var(--fill-color);\n",
              "      border-left-color: var(--fill-color);\n",
              "    }\n",
              "    20% {\n",
              "      border-color: transparent;\n",
              "      border-left-color: var(--fill-color);\n",
              "      border-top-color: var(--fill-color);\n",
              "    }\n",
              "    30% {\n",
              "      border-color: transparent;\n",
              "      border-left-color: var(--fill-color);\n",
              "      border-top-color: var(--fill-color);\n",
              "      border-right-color: var(--fill-color);\n",
              "    }\n",
              "    40% {\n",
              "      border-color: transparent;\n",
              "      border-right-color: var(--fill-color);\n",
              "      border-top-color: var(--fill-color);\n",
              "    }\n",
              "    60% {\n",
              "      border-color: transparent;\n",
              "      border-right-color: var(--fill-color);\n",
              "    }\n",
              "    80% {\n",
              "      border-color: transparent;\n",
              "      border-right-color: var(--fill-color);\n",
              "      border-bottom-color: var(--fill-color);\n",
              "    }\n",
              "    90% {\n",
              "      border-color: transparent;\n",
              "      border-bottom-color: var(--fill-color);\n",
              "    }\n",
              "  }\n",
              "</style>\n",
              "\n",
              "  <script>\n",
              "    async function quickchart(key) {\n",
              "      const quickchartButtonEl =\n",
              "        document.querySelector('#' + key + ' button');\n",
              "      quickchartButtonEl.disabled = true;  // To prevent multiple clicks.\n",
              "      quickchartButtonEl.classList.add('colab-df-spinner');\n",
              "      try {\n",
              "        const charts = await google.colab.kernel.invokeFunction(\n",
              "            'suggestCharts', [key], {});\n",
              "      } catch (error) {\n",
              "        console.error('Error during call to suggestCharts:', error);\n",
              "      }\n",
              "      quickchartButtonEl.classList.remove('colab-df-spinner');\n",
              "      quickchartButtonEl.classList.add('colab-df-quickchart-complete');\n",
              "    }\n",
              "    (() => {\n",
              "      let quickchartButtonEl =\n",
              "        document.querySelector('#df-9e8f7626-7061-45ed-9f9d-175dbe7648bf button');\n",
              "      quickchartButtonEl.style.display =\n",
              "        google.colab.kernel.accessAllowed ? 'block' : 'none';\n",
              "    })();\n",
              "  </script>\n",
              "</div>\n",
              "\n",
              "    </div>\n",
              "  </div>\n"
            ]
          },
          "metadata": {},
          "execution_count": 28
        }
      ]
    },
    {
      "cell_type": "code",
      "source": [
        "# data.to_excel(\"/content/drive/MyDrive/datacheck.xlsx\")"
      ],
      "metadata": {
        "id": "YLE_Gjpl1TqL"
      },
      "execution_count": null,
      "outputs": []
    },
    {
      "cell_type": "code",
      "metadata": {
        "id": "ip9KymiVwgN2"
      },
      "source": [
        "from datasets import Dataset\n",
        "\n",
        "# read dataframe as HuggingFace Datasets object\n",
        "dataset = Dataset.from_pandas(data)"
      ],
      "execution_count": null,
      "outputs": []
    },
    {
      "cell_type": "code",
      "metadata": {
        "colab": {
          "base_uri": "https://localhost:8080/"
        },
        "id": "IaYUnqdLuXbe",
        "outputId": "e49bed4f-2743-46c5-a164-e07763066ebd"
      },
      "source": [
        "dataset"
      ],
      "execution_count": null,
      "outputs": [
        {
          "output_type": "execute_result",
          "data": {
            "text/plain": [
              "Dataset({\n",
              "    features: ['image_path', 'label'],\n",
              "    num_rows: 1000\n",
              "})"
            ]
          },
          "metadata": {},
          "execution_count": 32
        }
      ]
    },
    {
      "cell_type": "code",
      "source": [
        "labels = [0, 1, 2, 3, 4, 5, 6, 7, 8, 9, 10, 11, 12, 13, 14, 15]\n",
        "unique_labels = list(set(labels)) #Using set to remove duplicity if any"
      ],
      "metadata": {
        "id": "RRmvKYs9GXMv"
      },
      "execution_count": null,
      "outputs": []
    },
    {
      "cell_type": "code",
      "metadata": {
        "colab": {
          "base_uri": "https://localhost:8080/",
          "height": 49,
          "referenced_widgets": [
            "d091469957b54538ab176f4581343cce",
            "bac78eea0c4d44ca91f3fb4ad1b7ffe1",
            "78ea8bccc950489f834974b55dbed991",
            "d2f5eb3e8548418ebd07156eff64b41d",
            "40485471aa344c02941939847a0a419a",
            "84a22739dce748c1bfd4a952c92537e3",
            "f1f359e599de4ecd84ce805c17ed94fd",
            "9431e4e8064d4271bd0fb80cfd539175",
            "a992eb099571453f923709e08282650b",
            "52f33d31e901445fa600f30bde28814a",
            "39af3068f94e4524ae1765f1656846c5"
          ]
        },
        "id": "qNS6bjXVytvF",
        "outputId": "d5b49df2-22b2-4d41-cf16-9018f760e2f4"
      },
      "source": [
        "from datasets import Features, Sequence, ClassLabel, Value, Array2D, Array3D\n",
        "\n",
        "# we need to define custom features\n",
        "features = Features({\n",
        "    'image': Array3D(dtype=\"int64\", shape=(3, 224, 224)),\n",
        "    'input_ids': Sequence(feature=Value(dtype='int64')),\n",
        "    'attention_mask': Sequence(Value(dtype='int64')),\n",
        "    'token_type_ids': Sequence(Value(dtype='int64')),\n",
        "    'bbox': Array2D(dtype=\"int64\", shape=(512, 4)),\n",
        "    'labels': ClassLabel(num_classes=len(unique_labels), names=unique_labels)\n",
        "})\n",
        "\n",
        "def preprocess_data(examples):\n",
        "  # take a batch of images\n",
        "  images = [Image.open(path).convert(\"RGB\") for path in examples['image_path']]\n",
        "\n",
        "  encoded_inputs = processor(images, padding=\"max_length\", truncation=True)\n",
        "\n",
        "  # add labels\n",
        "  # encoded_inputs[\"labels\"] = examples[\"label\"]\n",
        "  encoded_inputs[\"labels\"] = [label2id[label] for label in examples[\"label\"]]\n",
        "  # print(encoded_inputs)\n",
        "\n",
        "  return encoded_inputs\n",
        "\n",
        "encoded_dataset = dataset.map(preprocess_data, remove_columns=dataset.column_names, features=features,\n",
        "                              batched=True, batch_size=4)"
      ],
      "execution_count": null,
      "outputs": [
        {
          "output_type": "display_data",
          "data": {
            "text/plain": [
              "Map:   0%|          | 0/1000 [00:00<?, ? examples/s]"
            ],
            "application/vnd.jupyter.widget-view+json": {
              "version_major": 2,
              "version_minor": 0,
              "model_id": "d091469957b54538ab176f4581343cce"
            }
          },
          "metadata": {}
        }
      ]
    },
    {
      "cell_type": "markdown",
      "metadata": {
        "id": "u1j6YVse1AlC"
      },
      "source": [
        "Next, we set the format to PyTorch tensors. We also specify to put everything on the GPU (CUDA)."
      ]
    },
    {
      "cell_type": "code",
      "metadata": {
        "id": "k_Ie3FiQ1AOF"
      },
      "source": [
        "encoded_dataset.set_format(type=\"torch\", device=\"cuda\")"
      ],
      "execution_count": null,
      "outputs": []
    },
    {
      "cell_type": "markdown",
      "metadata": {
        "id": "sBR9uR8k1Eou"
      },
      "source": [
        "We can create a PyTorch dataloader now:"
      ]
    },
    {
      "cell_type": "code",
      "metadata": {
        "id": "J9UDVir9zNZ1"
      },
      "source": [
        "import torch\n",
        "\n",
        "dataloader = torch.utils.data.DataLoader(encoded_dataset, batch_size=8)\n",
        "batch = next(iter(dataloader))"
      ],
      "execution_count": null,
      "outputs": []
    },
    {
      "cell_type": "code",
      "metadata": {
        "colab": {
          "base_uri": "https://localhost:8080/"
        },
        "id": "BLWNOM9r1NMG",
        "outputId": "23de1325-ef3f-48c1-8daf-732e6664c067"
      },
      "source": [
        "for k,v in batch.items():\n",
        "  print(k, v.shape)"
      ],
      "execution_count": null,
      "outputs": [
        {
          "output_type": "stream",
          "name": "stdout",
          "text": [
            "image torch.Size([8, 3, 224, 224])\n",
            "input_ids torch.Size([8, 512])\n",
            "attention_mask torch.Size([8, 512])\n",
            "token_type_ids torch.Size([8, 512])\n",
            "bbox torch.Size([8, 512, 4])\n",
            "labels torch.Size([8])\n"
          ]
        }
      ]
    },
    {
      "cell_type": "code",
      "metadata": {
        "colab": {
          "base_uri": "https://localhost:8080/",
          "height": 88
        },
        "id": "cYNzW2n91R1N",
        "outputId": "0d75e15d-4fb7-4838-f4da-cc98414a6c6f"
      },
      "source": [
        "processor.tokenizer.decode(batch['input_ids'][1].tolist())"
      ],
      "execution_count": null,
      "outputs": [
        {
          "output_type": "execute_result",
          "data": {
            "text/plain": [
              "'[CLS] ( and b compound esuuts gu file no : 8128, status : active secielon trees itt 92 - 08 % 25 ( he abstracts. norber : 120 fema mumger : 2109, pi 4, 782 utasenicety vewtcue : z70 % tp vemicle : ssp nee who oral vericle : susp s30 3 / hon tw vehicle : insoluble special instructions : forme suspension in 12¥c mita homogenization anesl es udst : cancelled ( expired - 09 - 17 - 87 ) ps2 : penoiwg 12 - 09 - 87 ‘ tz possp pos - 89 m2 : poss nees arle tu nebative acutor als if loeoung / kgd aales 815 ; fenrles 6121510 - 733 hl males t5005 / ks ; females l7son6 / r p / o males : st + lio plt alo femles : st® le¥o pago ao mele : ral etsng / kglawlsise paa : ho effect tec : slg - etrend effect atrng / kg - lomgsis - pnagno effect tec : mo effect etas % o effect nebrtive peas, nesative f450 ‘ ral negative. wd suppression of the prenary antibody response to srbc. oral perdine 12 - 10 - 87 conetnen 85 tszeorts [SEP] [PAD] [PAD] [PAD] [PAD] [PAD] [PAD] [PAD] [PAD] [PAD] [PAD] [PAD] [PAD] [PAD] [PAD] [PAD] [PAD] [PAD] [PAD] [PAD] [PAD] [PAD] [PAD] [PAD] [PAD] [PAD] [PAD] [PAD] [PAD] [PAD] [PAD] [PAD] [PAD] [PAD] [PAD] [PAD] [PAD] [PAD] [PAD] [PAD] [PAD] [PAD] [PAD] [PAD] [PAD] [PAD] [PAD] [PAD] [PAD] [PAD] [PAD] [PAD] [PAD] [PAD] [PAD] [PAD] [PAD] [PAD] [PAD] [PAD] [PAD] [PAD] [PAD] [PAD] [PAD] [PAD] [PAD] [PAD] [PAD] [PAD] [PAD] [PAD] [PAD] [PAD] [PAD] [PAD] [PAD] [PAD] [PAD] [PAD] [PAD] [PAD] [PAD] [PAD] [PAD] [PAD] [PAD] [PAD] [PAD] [PAD] [PAD] [PAD] [PAD] [PAD] [PAD] [PAD] [PAD] [PAD] [PAD] [PAD] [PAD] [PAD] [PAD] [PAD] [PAD] [PAD] [PAD] [PAD] [PAD] [PAD] [PAD] [PAD] [PAD] [PAD] [PAD] [PAD] [PAD] [PAD] [PAD] [PAD] [PAD] [PAD] [PAD] [PAD] [PAD] [PAD] [PAD] [PAD] [PAD] [PAD] [PAD] [PAD] [PAD] [PAD] [PAD] [PAD] [PAD] [PAD] [PAD] [PAD] [PAD] [PAD] [PAD] [PAD] [PAD] [PAD] [PAD] [PAD] [PAD] [PAD] [PAD] [PAD] [PAD] [PAD] [PAD] [PAD] [PAD] [PAD] [PAD] [PAD] [PAD] [PAD] [PAD] [PAD] [PAD] [PAD] [PAD] [PAD] [PAD] [PAD] [PAD] [PAD] [PAD] [PAD] [PAD] [PAD] [PAD] [PAD] [PAD] [PAD] [PAD] [PAD] [PAD] [PAD] [PAD] [PAD] [PAD] [PAD] [PAD] [PAD] [PAD] [PAD]'"
            ],
            "application/vnd.google.colaboratory.intrinsic+json": {
              "type": "string"
            }
          },
          "metadata": {},
          "execution_count": 43
        }
      ]
    },
    {
      "cell_type": "code",
      "metadata": {
        "colab": {
          "base_uri": "https://localhost:8080/"
        },
        "id": "plD5KuDB1XY0",
        "outputId": "566d716e-87a1-444e-968e-f0a8c6c08f4f"
      },
      "source": [
        "[batch['labels'][1].item()]"
      ],
      "execution_count": null,
      "outputs": [
        {
          "output_type": "execute_result",
          "data": {
            "text/plain": [
              "[0]"
            ]
          },
          "metadata": {},
          "execution_count": 44
        }
      ]
    },
    {
      "cell_type": "markdown",
      "metadata": {
        "id": "UETppfZA1ehC"
      },
      "source": [
        "## Define the model\n",
        "\n",
        "Here we define the model, namely `LayoutLMv2ForSequenceClassification`. We initialize it with the weights of the pre-trained base model (`LayoutLMModel`). The weights of the classification head are randomly initialized, and will be fine-tuned together with the weights of the base model on our tiny dataset. Once loaded, we move it to the GPU."
      ]
    },
    {
      "cell_type": "code",
      "metadata": {
        "colab": {
          "base_uri": "https://localhost:8080/",
          "height": 1000,
          "referenced_widgets": [
            "0c07acbb017b4bbbb69183eed5ef25a3",
            "d8c35a34484f40fe9e46ebfaa5cfa633",
            "0f6aed12dac8484ba1cf997f8aa97339",
            "1e4636d8abe14dcbaf255ed3120f67fd",
            "c307bd92f91e4aacbbb9e31a10dbb314",
            "fc6b9737ddcc4aa38825f5c319f2f563",
            "9cd3940c85694e0c9c2545a0df7771ae",
            "e95c1c292fce4c3c89d099d95c3cafb4",
            "13ca19969072472eb93dfc8f050c89cc",
            "85385935374d4bcca34d531e6d7fd03e",
            "0d98b3c852034843ab28227a71fff2a0"
          ]
        },
        "id": "gGiPKKhO1atK",
        "outputId": "d707a954-bda6-4f8a-b4b6-fe5c1c5f8c59"
      },
      "source": [
        "from transformers import LayoutLMv2ForSequenceClassification\n",
        "import torch\n",
        "\n",
        "device = torch.device(\"cuda\" if torch.cuda.is_available() else \"cpu\")\n",
        "\n",
        "model = LayoutLMv2ForSequenceClassification.from_pretrained(\"microsoft/layoutlmv2-base-uncased\",\n",
        "                                                            num_labels=len(labels))\n",
        "model.to(device)"
      ],
      "execution_count": null,
      "outputs": [
        {
          "output_type": "display_data",
          "data": {
            "text/plain": [
              "pytorch_model.bin:   0%|          | 0.00/802M [00:00<?, ?B/s]"
            ],
            "application/vnd.jupyter.widget-view+json": {
              "version_major": 2,
              "version_minor": 0,
              "model_id": "0c07acbb017b4bbbb69183eed5ef25a3"
            }
          },
          "metadata": {}
        },
        {
          "output_type": "stream",
          "name": "stderr",
          "text": [
            "Some weights of LayoutLMv2ForSequenceClassification were not initialized from the model checkpoint at microsoft/layoutlmv2-base-uncased and are newly initialized: ['classifier.weight', 'classifier.bias']\n",
            "You should probably TRAIN this model on a down-stream task to be able to use it for predictions and inference.\n"
          ]
        },
        {
          "output_type": "execute_result",
          "data": {
            "text/plain": [
              "LayoutLMv2ForSequenceClassification(\n",
              "  (layoutlmv2): LayoutLMv2Model(\n",
              "    (embeddings): LayoutLMv2Embeddings(\n",
              "      (word_embeddings): Embedding(30522, 768, padding_idx=0)\n",
              "      (position_embeddings): Embedding(512, 768)\n",
              "      (x_position_embeddings): Embedding(1024, 128)\n",
              "      (y_position_embeddings): Embedding(1024, 128)\n",
              "      (h_position_embeddings): Embedding(1024, 128)\n",
              "      (w_position_embeddings): Embedding(1024, 128)\n",
              "      (token_type_embeddings): Embedding(2, 768)\n",
              "      (LayerNorm): LayerNorm((768,), eps=1e-12, elementwise_affine=True)\n",
              "      (dropout): Dropout(p=0.1, inplace=False)\n",
              "    )\n",
              "    (visual): LayoutLMv2VisualBackbone(\n",
              "      (backbone): FPN(\n",
              "        (fpn_lateral2): Conv2d(256, 256, kernel_size=(1, 1), stride=(1, 1))\n",
              "        (fpn_output2): Conv2d(256, 256, kernel_size=(3, 3), stride=(1, 1), padding=(1, 1))\n",
              "        (fpn_lateral3): Conv2d(512, 256, kernel_size=(1, 1), stride=(1, 1))\n",
              "        (fpn_output3): Conv2d(256, 256, kernel_size=(3, 3), stride=(1, 1), padding=(1, 1))\n",
              "        (fpn_lateral4): Conv2d(1024, 256, kernel_size=(1, 1), stride=(1, 1))\n",
              "        (fpn_output4): Conv2d(256, 256, kernel_size=(3, 3), stride=(1, 1), padding=(1, 1))\n",
              "        (fpn_lateral5): Conv2d(2048, 256, kernel_size=(1, 1), stride=(1, 1))\n",
              "        (fpn_output5): Conv2d(256, 256, kernel_size=(3, 3), stride=(1, 1), padding=(1, 1))\n",
              "        (top_block): LastLevelMaxPool()\n",
              "        (bottom_up): ResNet(\n",
              "          (stem): BasicStem(\n",
              "            (conv1): Conv2d(\n",
              "              3, 64, kernel_size=(7, 7), stride=(2, 2), padding=(3, 3), bias=False\n",
              "              (norm): FrozenBatchNorm2d(num_features=64, eps=1e-05)\n",
              "            )\n",
              "          )\n",
              "          (res2): Sequential(\n",
              "            (0): BottleneckBlock(\n",
              "              (shortcut): Conv2d(\n",
              "                64, 256, kernel_size=(1, 1), stride=(1, 1), bias=False\n",
              "                (norm): FrozenBatchNorm2d(num_features=256, eps=1e-05)\n",
              "              )\n",
              "              (conv1): Conv2d(\n",
              "                64, 256, kernel_size=(1, 1), stride=(1, 1), bias=False\n",
              "                (norm): FrozenBatchNorm2d(num_features=256, eps=1e-05)\n",
              "              )\n",
              "              (conv2): Conv2d(\n",
              "                256, 256, kernel_size=(3, 3), stride=(1, 1), padding=(1, 1), groups=32, bias=False\n",
              "                (norm): FrozenBatchNorm2d(num_features=256, eps=1e-05)\n",
              "              )\n",
              "              (conv3): Conv2d(\n",
              "                256, 256, kernel_size=(1, 1), stride=(1, 1), bias=False\n",
              "                (norm): FrozenBatchNorm2d(num_features=256, eps=1e-05)\n",
              "              )\n",
              "            )\n",
              "            (1): BottleneckBlock(\n",
              "              (conv1): Conv2d(\n",
              "                256, 256, kernel_size=(1, 1), stride=(1, 1), bias=False\n",
              "                (norm): FrozenBatchNorm2d(num_features=256, eps=1e-05)\n",
              "              )\n",
              "              (conv2): Conv2d(\n",
              "                256, 256, kernel_size=(3, 3), stride=(1, 1), padding=(1, 1), groups=32, bias=False\n",
              "                (norm): FrozenBatchNorm2d(num_features=256, eps=1e-05)\n",
              "              )\n",
              "              (conv3): Conv2d(\n",
              "                256, 256, kernel_size=(1, 1), stride=(1, 1), bias=False\n",
              "                (norm): FrozenBatchNorm2d(num_features=256, eps=1e-05)\n",
              "              )\n",
              "            )\n",
              "            (2): BottleneckBlock(\n",
              "              (conv1): Conv2d(\n",
              "                256, 256, kernel_size=(1, 1), stride=(1, 1), bias=False\n",
              "                (norm): FrozenBatchNorm2d(num_features=256, eps=1e-05)\n",
              "              )\n",
              "              (conv2): Conv2d(\n",
              "                256, 256, kernel_size=(3, 3), stride=(1, 1), padding=(1, 1), groups=32, bias=False\n",
              "                (norm): FrozenBatchNorm2d(num_features=256, eps=1e-05)\n",
              "              )\n",
              "              (conv3): Conv2d(\n",
              "                256, 256, kernel_size=(1, 1), stride=(1, 1), bias=False\n",
              "                (norm): FrozenBatchNorm2d(num_features=256, eps=1e-05)\n",
              "              )\n",
              "            )\n",
              "          )\n",
              "          (res3): Sequential(\n",
              "            (0): BottleneckBlock(\n",
              "              (shortcut): Conv2d(\n",
              "                256, 512, kernel_size=(1, 1), stride=(2, 2), bias=False\n",
              "                (norm): FrozenBatchNorm2d(num_features=512, eps=1e-05)\n",
              "              )\n",
              "              (conv1): Conv2d(\n",
              "                256, 512, kernel_size=(1, 1), stride=(1, 1), bias=False\n",
              "                (norm): FrozenBatchNorm2d(num_features=512, eps=1e-05)\n",
              "              )\n",
              "              (conv2): Conv2d(\n",
              "                512, 512, kernel_size=(3, 3), stride=(2, 2), padding=(1, 1), groups=32, bias=False\n",
              "                (norm): FrozenBatchNorm2d(num_features=512, eps=1e-05)\n",
              "              )\n",
              "              (conv3): Conv2d(\n",
              "                512, 512, kernel_size=(1, 1), stride=(1, 1), bias=False\n",
              "                (norm): FrozenBatchNorm2d(num_features=512, eps=1e-05)\n",
              "              )\n",
              "            )\n",
              "            (1): BottleneckBlock(\n",
              "              (conv1): Conv2d(\n",
              "                512, 512, kernel_size=(1, 1), stride=(1, 1), bias=False\n",
              "                (norm): FrozenBatchNorm2d(num_features=512, eps=1e-05)\n",
              "              )\n",
              "              (conv2): Conv2d(\n",
              "                512, 512, kernel_size=(3, 3), stride=(1, 1), padding=(1, 1), groups=32, bias=False\n",
              "                (norm): FrozenBatchNorm2d(num_features=512, eps=1e-05)\n",
              "              )\n",
              "              (conv3): Conv2d(\n",
              "                512, 512, kernel_size=(1, 1), stride=(1, 1), bias=False\n",
              "                (norm): FrozenBatchNorm2d(num_features=512, eps=1e-05)\n",
              "              )\n",
              "            )\n",
              "            (2): BottleneckBlock(\n",
              "              (conv1): Conv2d(\n",
              "                512, 512, kernel_size=(1, 1), stride=(1, 1), bias=False\n",
              "                (norm): FrozenBatchNorm2d(num_features=512, eps=1e-05)\n",
              "              )\n",
              "              (conv2): Conv2d(\n",
              "                512, 512, kernel_size=(3, 3), stride=(1, 1), padding=(1, 1), groups=32, bias=False\n",
              "                (norm): FrozenBatchNorm2d(num_features=512, eps=1e-05)\n",
              "              )\n",
              "              (conv3): Conv2d(\n",
              "                512, 512, kernel_size=(1, 1), stride=(1, 1), bias=False\n",
              "                (norm): FrozenBatchNorm2d(num_features=512, eps=1e-05)\n",
              "              )\n",
              "            )\n",
              "            (3): BottleneckBlock(\n",
              "              (conv1): Conv2d(\n",
              "                512, 512, kernel_size=(1, 1), stride=(1, 1), bias=False\n",
              "                (norm): FrozenBatchNorm2d(num_features=512, eps=1e-05)\n",
              "              )\n",
              "              (conv2): Conv2d(\n",
              "                512, 512, kernel_size=(3, 3), stride=(1, 1), padding=(1, 1), groups=32, bias=False\n",
              "                (norm): FrozenBatchNorm2d(num_features=512, eps=1e-05)\n",
              "              )\n",
              "              (conv3): Conv2d(\n",
              "                512, 512, kernel_size=(1, 1), stride=(1, 1), bias=False\n",
              "                (norm): FrozenBatchNorm2d(num_features=512, eps=1e-05)\n",
              "              )\n",
              "            )\n",
              "          )\n",
              "          (res4): Sequential(\n",
              "            (0): BottleneckBlock(\n",
              "              (shortcut): Conv2d(\n",
              "                512, 1024, kernel_size=(1, 1), stride=(2, 2), bias=False\n",
              "                (norm): FrozenBatchNorm2d(num_features=1024, eps=1e-05)\n",
              "              )\n",
              "              (conv1): Conv2d(\n",
              "                512, 1024, kernel_size=(1, 1), stride=(1, 1), bias=False\n",
              "                (norm): FrozenBatchNorm2d(num_features=1024, eps=1e-05)\n",
              "              )\n",
              "              (conv2): Conv2d(\n",
              "                1024, 1024, kernel_size=(3, 3), stride=(2, 2), padding=(1, 1), groups=32, bias=False\n",
              "                (norm): FrozenBatchNorm2d(num_features=1024, eps=1e-05)\n",
              "              )\n",
              "              (conv3): Conv2d(\n",
              "                1024, 1024, kernel_size=(1, 1), stride=(1, 1), bias=False\n",
              "                (norm): FrozenBatchNorm2d(num_features=1024, eps=1e-05)\n",
              "              )\n",
              "            )\n",
              "            (1): BottleneckBlock(\n",
              "              (conv1): Conv2d(\n",
              "                1024, 1024, kernel_size=(1, 1), stride=(1, 1), bias=False\n",
              "                (norm): FrozenBatchNorm2d(num_features=1024, eps=1e-05)\n",
              "              )\n",
              "              (conv2): Conv2d(\n",
              "                1024, 1024, kernel_size=(3, 3), stride=(1, 1), padding=(1, 1), groups=32, bias=False\n",
              "                (norm): FrozenBatchNorm2d(num_features=1024, eps=1e-05)\n",
              "              )\n",
              "              (conv3): Conv2d(\n",
              "                1024, 1024, kernel_size=(1, 1), stride=(1, 1), bias=False\n",
              "                (norm): FrozenBatchNorm2d(num_features=1024, eps=1e-05)\n",
              "              )\n",
              "            )\n",
              "            (2): BottleneckBlock(\n",
              "              (conv1): Conv2d(\n",
              "                1024, 1024, kernel_size=(1, 1), stride=(1, 1), bias=False\n",
              "                (norm): FrozenBatchNorm2d(num_features=1024, eps=1e-05)\n",
              "              )\n",
              "              (conv2): Conv2d(\n",
              "                1024, 1024, kernel_size=(3, 3), stride=(1, 1), padding=(1, 1), groups=32, bias=False\n",
              "                (norm): FrozenBatchNorm2d(num_features=1024, eps=1e-05)\n",
              "              )\n",
              "              (conv3): Conv2d(\n",
              "                1024, 1024, kernel_size=(1, 1), stride=(1, 1), bias=False\n",
              "                (norm): FrozenBatchNorm2d(num_features=1024, eps=1e-05)\n",
              "              )\n",
              "            )\n",
              "            (3): BottleneckBlock(\n",
              "              (conv1): Conv2d(\n",
              "                1024, 1024, kernel_size=(1, 1), stride=(1, 1), bias=False\n",
              "                (norm): FrozenBatchNorm2d(num_features=1024, eps=1e-05)\n",
              "              )\n",
              "              (conv2): Conv2d(\n",
              "                1024, 1024, kernel_size=(3, 3), stride=(1, 1), padding=(1, 1), groups=32, bias=False\n",
              "                (norm): FrozenBatchNorm2d(num_features=1024, eps=1e-05)\n",
              "              )\n",
              "              (conv3): Conv2d(\n",
              "                1024, 1024, kernel_size=(1, 1), stride=(1, 1), bias=False\n",
              "                (norm): FrozenBatchNorm2d(num_features=1024, eps=1e-05)\n",
              "              )\n",
              "            )\n",
              "            (4): BottleneckBlock(\n",
              "              (conv1): Conv2d(\n",
              "                1024, 1024, kernel_size=(1, 1), stride=(1, 1), bias=False\n",
              "                (norm): FrozenBatchNorm2d(num_features=1024, eps=1e-05)\n",
              "              )\n",
              "              (conv2): Conv2d(\n",
              "                1024, 1024, kernel_size=(3, 3), stride=(1, 1), padding=(1, 1), groups=32, bias=False\n",
              "                (norm): FrozenBatchNorm2d(num_features=1024, eps=1e-05)\n",
              "              )\n",
              "              (conv3): Conv2d(\n",
              "                1024, 1024, kernel_size=(1, 1), stride=(1, 1), bias=False\n",
              "                (norm): FrozenBatchNorm2d(num_features=1024, eps=1e-05)\n",
              "              )\n",
              "            )\n",
              "            (5): BottleneckBlock(\n",
              "              (conv1): Conv2d(\n",
              "                1024, 1024, kernel_size=(1, 1), stride=(1, 1), bias=False\n",
              "                (norm): FrozenBatchNorm2d(num_features=1024, eps=1e-05)\n",
              "              )\n",
              "              (conv2): Conv2d(\n",
              "                1024, 1024, kernel_size=(3, 3), stride=(1, 1), padding=(1, 1), groups=32, bias=False\n",
              "                (norm): FrozenBatchNorm2d(num_features=1024, eps=1e-05)\n",
              "              )\n",
              "              (conv3): Conv2d(\n",
              "                1024, 1024, kernel_size=(1, 1), stride=(1, 1), bias=False\n",
              "                (norm): FrozenBatchNorm2d(num_features=1024, eps=1e-05)\n",
              "              )\n",
              "            )\n",
              "            (6): BottleneckBlock(\n",
              "              (conv1): Conv2d(\n",
              "                1024, 1024, kernel_size=(1, 1), stride=(1, 1), bias=False\n",
              "                (norm): FrozenBatchNorm2d(num_features=1024, eps=1e-05)\n",
              "              )\n",
              "              (conv2): Conv2d(\n",
              "                1024, 1024, kernel_size=(3, 3), stride=(1, 1), padding=(1, 1), groups=32, bias=False\n",
              "                (norm): FrozenBatchNorm2d(num_features=1024, eps=1e-05)\n",
              "              )\n",
              "              (conv3): Conv2d(\n",
              "                1024, 1024, kernel_size=(1, 1), stride=(1, 1), bias=False\n",
              "                (norm): FrozenBatchNorm2d(num_features=1024, eps=1e-05)\n",
              "              )\n",
              "            )\n",
              "            (7): BottleneckBlock(\n",
              "              (conv1): Conv2d(\n",
              "                1024, 1024, kernel_size=(1, 1), stride=(1, 1), bias=False\n",
              "                (norm): FrozenBatchNorm2d(num_features=1024, eps=1e-05)\n",
              "              )\n",
              "              (conv2): Conv2d(\n",
              "                1024, 1024, kernel_size=(3, 3), stride=(1, 1), padding=(1, 1), groups=32, bias=False\n",
              "                (norm): FrozenBatchNorm2d(num_features=1024, eps=1e-05)\n",
              "              )\n",
              "              (conv3): Conv2d(\n",
              "                1024, 1024, kernel_size=(1, 1), stride=(1, 1), bias=False\n",
              "                (norm): FrozenBatchNorm2d(num_features=1024, eps=1e-05)\n",
              "              )\n",
              "            )\n",
              "            (8): BottleneckBlock(\n",
              "              (conv1): Conv2d(\n",
              "                1024, 1024, kernel_size=(1, 1), stride=(1, 1), bias=False\n",
              "                (norm): FrozenBatchNorm2d(num_features=1024, eps=1e-05)\n",
              "              )\n",
              "              (conv2): Conv2d(\n",
              "                1024, 1024, kernel_size=(3, 3), stride=(1, 1), padding=(1, 1), groups=32, bias=False\n",
              "                (norm): FrozenBatchNorm2d(num_features=1024, eps=1e-05)\n",
              "              )\n",
              "              (conv3): Conv2d(\n",
              "                1024, 1024, kernel_size=(1, 1), stride=(1, 1), bias=False\n",
              "                (norm): FrozenBatchNorm2d(num_features=1024, eps=1e-05)\n",
              "              )\n",
              "            )\n",
              "            (9): BottleneckBlock(\n",
              "              (conv1): Conv2d(\n",
              "                1024, 1024, kernel_size=(1, 1), stride=(1, 1), bias=False\n",
              "                (norm): FrozenBatchNorm2d(num_features=1024, eps=1e-05)\n",
              "              )\n",
              "              (conv2): Conv2d(\n",
              "                1024, 1024, kernel_size=(3, 3), stride=(1, 1), padding=(1, 1), groups=32, bias=False\n",
              "                (norm): FrozenBatchNorm2d(num_features=1024, eps=1e-05)\n",
              "              )\n",
              "              (conv3): Conv2d(\n",
              "                1024, 1024, kernel_size=(1, 1), stride=(1, 1), bias=False\n",
              "                (norm): FrozenBatchNorm2d(num_features=1024, eps=1e-05)\n",
              "              )\n",
              "            )\n",
              "            (10): BottleneckBlock(\n",
              "              (conv1): Conv2d(\n",
              "                1024, 1024, kernel_size=(1, 1), stride=(1, 1), bias=False\n",
              "                (norm): FrozenBatchNorm2d(num_features=1024, eps=1e-05)\n",
              "              )\n",
              "              (conv2): Conv2d(\n",
              "                1024, 1024, kernel_size=(3, 3), stride=(1, 1), padding=(1, 1), groups=32, bias=False\n",
              "                (norm): FrozenBatchNorm2d(num_features=1024, eps=1e-05)\n",
              "              )\n",
              "              (conv3): Conv2d(\n",
              "                1024, 1024, kernel_size=(1, 1), stride=(1, 1), bias=False\n",
              "                (norm): FrozenBatchNorm2d(num_features=1024, eps=1e-05)\n",
              "              )\n",
              "            )\n",
              "            (11): BottleneckBlock(\n",
              "              (conv1): Conv2d(\n",
              "                1024, 1024, kernel_size=(1, 1), stride=(1, 1), bias=False\n",
              "                (norm): FrozenBatchNorm2d(num_features=1024, eps=1e-05)\n",
              "              )\n",
              "              (conv2): Conv2d(\n",
              "                1024, 1024, kernel_size=(3, 3), stride=(1, 1), padding=(1, 1), groups=32, bias=False\n",
              "                (norm): FrozenBatchNorm2d(num_features=1024, eps=1e-05)\n",
              "              )\n",
              "              (conv3): Conv2d(\n",
              "                1024, 1024, kernel_size=(1, 1), stride=(1, 1), bias=False\n",
              "                (norm): FrozenBatchNorm2d(num_features=1024, eps=1e-05)\n",
              "              )\n",
              "            )\n",
              "            (12): BottleneckBlock(\n",
              "              (conv1): Conv2d(\n",
              "                1024, 1024, kernel_size=(1, 1), stride=(1, 1), bias=False\n",
              "                (norm): FrozenBatchNorm2d(num_features=1024, eps=1e-05)\n",
              "              )\n",
              "              (conv2): Conv2d(\n",
              "                1024, 1024, kernel_size=(3, 3), stride=(1, 1), padding=(1, 1), groups=32, bias=False\n",
              "                (norm): FrozenBatchNorm2d(num_features=1024, eps=1e-05)\n",
              "              )\n",
              "              (conv3): Conv2d(\n",
              "                1024, 1024, kernel_size=(1, 1), stride=(1, 1), bias=False\n",
              "                (norm): FrozenBatchNorm2d(num_features=1024, eps=1e-05)\n",
              "              )\n",
              "            )\n",
              "            (13): BottleneckBlock(\n",
              "              (conv1): Conv2d(\n",
              "                1024, 1024, kernel_size=(1, 1), stride=(1, 1), bias=False\n",
              "                (norm): FrozenBatchNorm2d(num_features=1024, eps=1e-05)\n",
              "              )\n",
              "              (conv2): Conv2d(\n",
              "                1024, 1024, kernel_size=(3, 3), stride=(1, 1), padding=(1, 1), groups=32, bias=False\n",
              "                (norm): FrozenBatchNorm2d(num_features=1024, eps=1e-05)\n",
              "              )\n",
              "              (conv3): Conv2d(\n",
              "                1024, 1024, kernel_size=(1, 1), stride=(1, 1), bias=False\n",
              "                (norm): FrozenBatchNorm2d(num_features=1024, eps=1e-05)\n",
              "              )\n",
              "            )\n",
              "            (14): BottleneckBlock(\n",
              "              (conv1): Conv2d(\n",
              "                1024, 1024, kernel_size=(1, 1), stride=(1, 1), bias=False\n",
              "                (norm): FrozenBatchNorm2d(num_features=1024, eps=1e-05)\n",
              "              )\n",
              "              (conv2): Conv2d(\n",
              "                1024, 1024, kernel_size=(3, 3), stride=(1, 1), padding=(1, 1), groups=32, bias=False\n",
              "                (norm): FrozenBatchNorm2d(num_features=1024, eps=1e-05)\n",
              "              )\n",
              "              (conv3): Conv2d(\n",
              "                1024, 1024, kernel_size=(1, 1), stride=(1, 1), bias=False\n",
              "                (norm): FrozenBatchNorm2d(num_features=1024, eps=1e-05)\n",
              "              )\n",
              "            )\n",
              "            (15): BottleneckBlock(\n",
              "              (conv1): Conv2d(\n",
              "                1024, 1024, kernel_size=(1, 1), stride=(1, 1), bias=False\n",
              "                (norm): FrozenBatchNorm2d(num_features=1024, eps=1e-05)\n",
              "              )\n",
              "              (conv2): Conv2d(\n",
              "                1024, 1024, kernel_size=(3, 3), stride=(1, 1), padding=(1, 1), groups=32, bias=False\n",
              "                (norm): FrozenBatchNorm2d(num_features=1024, eps=1e-05)\n",
              "              )\n",
              "              (conv3): Conv2d(\n",
              "                1024, 1024, kernel_size=(1, 1), stride=(1, 1), bias=False\n",
              "                (norm): FrozenBatchNorm2d(num_features=1024, eps=1e-05)\n",
              "              )\n",
              "            )\n",
              "            (16): BottleneckBlock(\n",
              "              (conv1): Conv2d(\n",
              "                1024, 1024, kernel_size=(1, 1), stride=(1, 1), bias=False\n",
              "                (norm): FrozenBatchNorm2d(num_features=1024, eps=1e-05)\n",
              "              )\n",
              "              (conv2): Conv2d(\n",
              "                1024, 1024, kernel_size=(3, 3), stride=(1, 1), padding=(1, 1), groups=32, bias=False\n",
              "                (norm): FrozenBatchNorm2d(num_features=1024, eps=1e-05)\n",
              "              )\n",
              "              (conv3): Conv2d(\n",
              "                1024, 1024, kernel_size=(1, 1), stride=(1, 1), bias=False\n",
              "                (norm): FrozenBatchNorm2d(num_features=1024, eps=1e-05)\n",
              "              )\n",
              "            )\n",
              "            (17): BottleneckBlock(\n",
              "              (conv1): Conv2d(\n",
              "                1024, 1024, kernel_size=(1, 1), stride=(1, 1), bias=False\n",
              "                (norm): FrozenBatchNorm2d(num_features=1024, eps=1e-05)\n",
              "              )\n",
              "              (conv2): Conv2d(\n",
              "                1024, 1024, kernel_size=(3, 3), stride=(1, 1), padding=(1, 1), groups=32, bias=False\n",
              "                (norm): FrozenBatchNorm2d(num_features=1024, eps=1e-05)\n",
              "              )\n",
              "              (conv3): Conv2d(\n",
              "                1024, 1024, kernel_size=(1, 1), stride=(1, 1), bias=False\n",
              "                (norm): FrozenBatchNorm2d(num_features=1024, eps=1e-05)\n",
              "              )\n",
              "            )\n",
              "            (18): BottleneckBlock(\n",
              "              (conv1): Conv2d(\n",
              "                1024, 1024, kernel_size=(1, 1), stride=(1, 1), bias=False\n",
              "                (norm): FrozenBatchNorm2d(num_features=1024, eps=1e-05)\n",
              "              )\n",
              "              (conv2): Conv2d(\n",
              "                1024, 1024, kernel_size=(3, 3), stride=(1, 1), padding=(1, 1), groups=32, bias=False\n",
              "                (norm): FrozenBatchNorm2d(num_features=1024, eps=1e-05)\n",
              "              )\n",
              "              (conv3): Conv2d(\n",
              "                1024, 1024, kernel_size=(1, 1), stride=(1, 1), bias=False\n",
              "                (norm): FrozenBatchNorm2d(num_features=1024, eps=1e-05)\n",
              "              )\n",
              "            )\n",
              "            (19): BottleneckBlock(\n",
              "              (conv1): Conv2d(\n",
              "                1024, 1024, kernel_size=(1, 1), stride=(1, 1), bias=False\n",
              "                (norm): FrozenBatchNorm2d(num_features=1024, eps=1e-05)\n",
              "              )\n",
              "              (conv2): Conv2d(\n",
              "                1024, 1024, kernel_size=(3, 3), stride=(1, 1), padding=(1, 1), groups=32, bias=False\n",
              "                (norm): FrozenBatchNorm2d(num_features=1024, eps=1e-05)\n",
              "              )\n",
              "              (conv3): Conv2d(\n",
              "                1024, 1024, kernel_size=(1, 1), stride=(1, 1), bias=False\n",
              "                (norm): FrozenBatchNorm2d(num_features=1024, eps=1e-05)\n",
              "              )\n",
              "            )\n",
              "            (20): BottleneckBlock(\n",
              "              (conv1): Conv2d(\n",
              "                1024, 1024, kernel_size=(1, 1), stride=(1, 1), bias=False\n",
              "                (norm): FrozenBatchNorm2d(num_features=1024, eps=1e-05)\n",
              "              )\n",
              "              (conv2): Conv2d(\n",
              "                1024, 1024, kernel_size=(3, 3), stride=(1, 1), padding=(1, 1), groups=32, bias=False\n",
              "                (norm): FrozenBatchNorm2d(num_features=1024, eps=1e-05)\n",
              "              )\n",
              "              (conv3): Conv2d(\n",
              "                1024, 1024, kernel_size=(1, 1), stride=(1, 1), bias=False\n",
              "                (norm): FrozenBatchNorm2d(num_features=1024, eps=1e-05)\n",
              "              )\n",
              "            )\n",
              "            (21): BottleneckBlock(\n",
              "              (conv1): Conv2d(\n",
              "                1024, 1024, kernel_size=(1, 1), stride=(1, 1), bias=False\n",
              "                (norm): FrozenBatchNorm2d(num_features=1024, eps=1e-05)\n",
              "              )\n",
              "              (conv2): Conv2d(\n",
              "                1024, 1024, kernel_size=(3, 3), stride=(1, 1), padding=(1, 1), groups=32, bias=False\n",
              "                (norm): FrozenBatchNorm2d(num_features=1024, eps=1e-05)\n",
              "              )\n",
              "              (conv3): Conv2d(\n",
              "                1024, 1024, kernel_size=(1, 1), stride=(1, 1), bias=False\n",
              "                (norm): FrozenBatchNorm2d(num_features=1024, eps=1e-05)\n",
              "              )\n",
              "            )\n",
              "            (22): BottleneckBlock(\n",
              "              (conv1): Conv2d(\n",
              "                1024, 1024, kernel_size=(1, 1), stride=(1, 1), bias=False\n",
              "                (norm): FrozenBatchNorm2d(num_features=1024, eps=1e-05)\n",
              "              )\n",
              "              (conv2): Conv2d(\n",
              "                1024, 1024, kernel_size=(3, 3), stride=(1, 1), padding=(1, 1), groups=32, bias=False\n",
              "                (norm): FrozenBatchNorm2d(num_features=1024, eps=1e-05)\n",
              "              )\n",
              "              (conv3): Conv2d(\n",
              "                1024, 1024, kernel_size=(1, 1), stride=(1, 1), bias=False\n",
              "                (norm): FrozenBatchNorm2d(num_features=1024, eps=1e-05)\n",
              "              )\n",
              "            )\n",
              "          )\n",
              "          (res5): Sequential(\n",
              "            (0): BottleneckBlock(\n",
              "              (shortcut): Conv2d(\n",
              "                1024, 2048, kernel_size=(1, 1), stride=(2, 2), bias=False\n",
              "                (norm): FrozenBatchNorm2d(num_features=2048, eps=1e-05)\n",
              "              )\n",
              "              (conv1): Conv2d(\n",
              "                1024, 2048, kernel_size=(1, 1), stride=(1, 1), bias=False\n",
              "                (norm): FrozenBatchNorm2d(num_features=2048, eps=1e-05)\n",
              "              )\n",
              "              (conv2): Conv2d(\n",
              "                2048, 2048, kernel_size=(3, 3), stride=(2, 2), padding=(1, 1), groups=32, bias=False\n",
              "                (norm): FrozenBatchNorm2d(num_features=2048, eps=1e-05)\n",
              "              )\n",
              "              (conv3): Conv2d(\n",
              "                2048, 2048, kernel_size=(1, 1), stride=(1, 1), bias=False\n",
              "                (norm): FrozenBatchNorm2d(num_features=2048, eps=1e-05)\n",
              "              )\n",
              "            )\n",
              "            (1): BottleneckBlock(\n",
              "              (conv1): Conv2d(\n",
              "                2048, 2048, kernel_size=(1, 1), stride=(1, 1), bias=False\n",
              "                (norm): FrozenBatchNorm2d(num_features=2048, eps=1e-05)\n",
              "              )\n",
              "              (conv2): Conv2d(\n",
              "                2048, 2048, kernel_size=(3, 3), stride=(1, 1), padding=(1, 1), groups=32, bias=False\n",
              "                (norm): FrozenBatchNorm2d(num_features=2048, eps=1e-05)\n",
              "              )\n",
              "              (conv3): Conv2d(\n",
              "                2048, 2048, kernel_size=(1, 1), stride=(1, 1), bias=False\n",
              "                (norm): FrozenBatchNorm2d(num_features=2048, eps=1e-05)\n",
              "              )\n",
              "            )\n",
              "            (2): BottleneckBlock(\n",
              "              (conv1): Conv2d(\n",
              "                2048, 2048, kernel_size=(1, 1), stride=(1, 1), bias=False\n",
              "                (norm): FrozenBatchNorm2d(num_features=2048, eps=1e-05)\n",
              "              )\n",
              "              (conv2): Conv2d(\n",
              "                2048, 2048, kernel_size=(3, 3), stride=(1, 1), padding=(1, 1), groups=32, bias=False\n",
              "                (norm): FrozenBatchNorm2d(num_features=2048, eps=1e-05)\n",
              "              )\n",
              "              (conv3): Conv2d(\n",
              "                2048, 2048, kernel_size=(1, 1), stride=(1, 1), bias=False\n",
              "                (norm): FrozenBatchNorm2d(num_features=2048, eps=1e-05)\n",
              "              )\n",
              "            )\n",
              "          )\n",
              "        )\n",
              "      )\n",
              "      (pool): AdaptiveAvgPool2d(output_size=[7, 7])\n",
              "    )\n",
              "    (visual_proj): Linear(in_features=256, out_features=768, bias=True)\n",
              "    (visual_LayerNorm): LayerNorm((768,), eps=1e-12, elementwise_affine=True)\n",
              "    (visual_dropout): Dropout(p=0.1, inplace=False)\n",
              "    (encoder): LayoutLMv2Encoder(\n",
              "      (layer): ModuleList(\n",
              "        (0-11): 12 x LayoutLMv2Layer(\n",
              "          (attention): LayoutLMv2Attention(\n",
              "            (self): LayoutLMv2SelfAttention(\n",
              "              (qkv_linear): Linear(in_features=768, out_features=2304, bias=False)\n",
              "              (dropout): Dropout(p=0.1, inplace=False)\n",
              "            )\n",
              "            (output): LayoutLMv2SelfOutput(\n",
              "              (dense): Linear(in_features=768, out_features=768, bias=True)\n",
              "              (LayerNorm): LayerNorm((768,), eps=1e-12, elementwise_affine=True)\n",
              "              (dropout): Dropout(p=0.1, inplace=False)\n",
              "            )\n",
              "          )\n",
              "          (intermediate): LayoutLMv2Intermediate(\n",
              "            (dense): Linear(in_features=768, out_features=3072, bias=True)\n",
              "            (intermediate_act_fn): GELUActivation()\n",
              "          )\n",
              "          (output): LayoutLMv2Output(\n",
              "            (dense): Linear(in_features=3072, out_features=768, bias=True)\n",
              "            (LayerNorm): LayerNorm((768,), eps=1e-12, elementwise_affine=True)\n",
              "            (dropout): Dropout(p=0.1, inplace=False)\n",
              "          )\n",
              "        )\n",
              "      )\n",
              "      (rel_pos_bias): Linear(in_features=32, out_features=12, bias=False)\n",
              "      (rel_pos_x_bias): Linear(in_features=64, out_features=12, bias=False)\n",
              "      (rel_pos_y_bias): Linear(in_features=64, out_features=12, bias=False)\n",
              "    )\n",
              "    (pooler): LayoutLMv2Pooler(\n",
              "      (dense): Linear(in_features=768, out_features=768, bias=True)\n",
              "      (activation): Tanh()\n",
              "    )\n",
              "  )\n",
              "  (dropout): Dropout(p=0.1, inplace=False)\n",
              "  (classifier): Linear(in_features=2304, out_features=16, bias=True)\n",
              ")"
            ]
          },
          "metadata": {},
          "execution_count": 45
        }
      ]
    },
    {
      "cell_type": "markdown",
      "metadata": {
        "id": "gIb5tkE-52U5"
      },
      "source": [
        "## Train the model\n",
        "\n",
        "Original LR = 5e-5 \\\\\n",
        "Set 1e-6 \\\\\n",
        "epochs = 30 \\\\\n",
        "Optimizer = Adam \\\\\n",
        "Loss function preset to be Crossentropy as it is a classification problem\n",
        "1) First training for 10 epochs to observe loss \\\\\n",
        "2) Loss decreasing and accuracy increasing. Trying another 5 epochs \\\\\n",
        "3) Another 10+5+3+5+5+3 = 36 epochs in 8 attempts \\\\"
      ]
    },
    {
      "cell_type": "code",
      "metadata": {
        "colab": {
          "base_uri": "https://localhost:8080/",
          "height": 747,
          "referenced_widgets": [
            "16a39783d351446692f864bbbb741797",
            "5914ffab904f459a8ed24af8719d94fe",
            "c0e35eb179b94d5f8872a2c91340eb5d",
            "4c3e1d3af9c3457083b38f5b8d8c56ad",
            "f61f4f1cd5b347f28aa9335be89704a5",
            "685574fb08e848e0aa0027b2dc0400d6",
            "1ea926347e694c71892535dd3aa2e48d",
            "b95c77e8a4a64adc83122a88b26c1ba4",
            "451d46e5c6a944cc8770e063b5b9b605",
            "5f2ec9009fdb4102a0fbdbc1d5ed4816",
            "e414fe2e783b4dd2b7e00f71aca7e85b",
            "1fc4ab9753464f06a63f17af960acb11",
            "ffe6ce8f6d934451a4fbed70b0a6d6b7",
            "0e59c4292f7c4cf0a7dd1f2ed8b3e261",
            "eb8356f74e6548228675365839fcbde5",
            "4725b78c7d914b18a0b54f92a4e737c4",
            "f9a7da2d51d74b8c9db83b26317f0457",
            "295c3a4a02324bec897143e7f81ef448",
            "3df904d991ab4eb9ae8eb9f07649dc0b",
            "6e3ee54e597044c38551522d562da7de",
            "120faaa397ff48808ec1418397cdbc64",
            "e930153f520f425c9bad20d7d990cbf0",
            "e520575c6ada4a47b2981f221d6d89ab",
            "2402d679944b4952846a04b6039ce49a",
            "83e46a08fe694a63bfd89ea2997583aa",
            "d2ece8ff7809494494524735e092f648",
            "d6be438274014ef6919c2be9de738552",
            "e41199bfa67548e0b04f12e9d9424df1",
            "50e4debc5e4b46969185818d3a516898",
            "c67d48a661364497b5ff6da3b5c78bc5",
            "0eddfaf1a09f4e5eb732ad2884d0b50d",
            "296e0a613ce149a78168d8abf1846620",
            "e761031804504fb9acb89ffdba8443c3",
            "80d2315f70c64073a195c6ee0d184a09",
            "c6aa5890f104480b91386d6a7084c901",
            "1ff627246d7541398fc248c612052dae",
            "f05a8182980d45ad87e0b2938a7134fa",
            "0837eee8642049baa81e4ed72a04dbc4",
            "19885283bdd8423fbf3557d073a6a128",
            "b1ef3d19c748413a91ee0e28bbf3a6a0",
            "816959e6ed8b4ca9a38a53d7cdbf455a",
            "18aa7e3b9bff4a47aa0310f1d8e6a2b2",
            "60ffc58f1cc5487a8e6f237b8e8d0c54",
            "8a3db2c92d7b4b06b653fa7699b9a083"
          ]
        },
        "id": "G3t2Awmc5wox",
        "outputId": "c0d1a7a8-cb51-4aea-bbb8-8beb5df24877"
      },
      "source": [
        "from transformers import AdamW\n",
        "from tqdm.notebook import tqdm\n",
        "\n",
        "optimizer = AdamW(model.parameters(), lr=3e-6)\n",
        "\n",
        "global_step = 0\n",
        "num_train_epochs = 10\n",
        "\n",
        "\n",
        "#put the model in training mode\n",
        "model.train()\n",
        "for epoch in range(num_train_epochs):\n",
        "  print(\"Epoch:\", epoch)\n",
        "  running_loss = 0.0\n",
        "  correct = 0\n",
        "  for batch in tqdm(dataloader):\n",
        "      # forward pass\n",
        "      outputs = model(**batch)\n",
        "      loss = outputs.loss\n",
        "\n",
        "      running_loss += loss.item()\n",
        "      predictions = outputs.logits.argmax(-1)\n",
        "      correct += (predictions == batch['labels']).float().sum()\n",
        "\n",
        "      # backward pass to get the gradients\n",
        "      loss.backward()\n",
        "\n",
        "      # update\n",
        "      optimizer.step()\n",
        "      optimizer.zero_grad()\n",
        "      global_step += 1\n",
        "\n",
        "  print(\"Loss:\", running_loss / batch[\"input_ids\"].shape[0])\n",
        "  accuracy = 100 * correct / len(data)\n",
        "  print(\"Training accuracy:\", accuracy.item())"
      ],
      "execution_count": null,
      "outputs": [
        {
          "output_type": "stream",
          "name": "stdout",
          "text": [
            "Epoch: 0\n"
          ]
        },
        {
          "output_type": "stream",
          "name": "stderr",
          "text": [
            "/usr/local/lib/python3.10/dist-packages/transformers/optimization.py:423: FutureWarning: This implementation of AdamW is deprecated and will be removed in a future version. Use the PyTorch implementation torch.optim.AdamW instead, or set `no_deprecation_warning=True` to disable this warning\n",
            "  warnings.warn(\n"
          ]
        },
        {
          "output_type": "display_data",
          "data": {
            "text/plain": [
              "  0%|          | 0/125 [00:00<?, ?it/s]"
            ],
            "application/vnd.jupyter.widget-view+json": {
              "version_major": 2,
              "version_minor": 0,
              "model_id": "16a39783d351446692f864bbbb741797"
            }
          },
          "metadata": {}
        },
        {
          "output_type": "stream",
          "name": "stdout",
          "text": [
            "Loss: 7.504261888563633\n",
            "Training accuracy: 93.60000610351562\n",
            "Epoch: 1\n"
          ]
        },
        {
          "output_type": "display_data",
          "data": {
            "text/plain": [
              "  0%|          | 0/125 [00:00<?, ?it/s]"
            ],
            "application/vnd.jupyter.widget-view+json": {
              "version_major": 2,
              "version_minor": 0,
              "model_id": "1fc4ab9753464f06a63f17af960acb11"
            }
          },
          "metadata": {}
        },
        {
          "output_type": "stream",
          "name": "stdout",
          "text": [
            "Loss: 6.9745043301954865\n",
            "Training accuracy: 94.60000610351562\n",
            "Epoch: 2\n"
          ]
        },
        {
          "output_type": "display_data",
          "data": {
            "text/plain": [
              "  0%|          | 0/125 [00:00<?, ?it/s]"
            ],
            "application/vnd.jupyter.widget-view+json": {
              "version_major": 2,
              "version_minor": 0,
              "model_id": "e520575c6ada4a47b2981f221d6d89ab"
            }
          },
          "metadata": {}
        },
        {
          "output_type": "stream",
          "name": "stdout",
          "text": [
            "Loss: 6.578697616234422\n",
            "Training accuracy: 95.10000610351562\n",
            "Epoch: 3\n"
          ]
        },
        {
          "output_type": "display_data",
          "data": {
            "text/plain": [
              "  0%|          | 0/125 [00:00<?, ?it/s]"
            ],
            "application/vnd.jupyter.widget-view+json": {
              "version_major": 2,
              "version_minor": 0,
              "model_id": "80d2315f70c64073a195c6ee0d184a09"
            }
          },
          "metadata": {}
        },
        {
          "output_type": "error",
          "ename": "KeyboardInterrupt",
          "evalue": "ignored",
          "traceback": [
            "\u001b[0;31m---------------------------------------------------------------------------\u001b[0m",
            "\u001b[0;31mKeyboardInterrupt\u001b[0m                         Traceback (most recent call last)",
            "\u001b[0;32m<ipython-input-59-e2dcc6f492e0>\u001b[0m in \u001b[0;36m<cell line: 12>\u001b[0;34m()\u001b[0m\n\u001b[1;32m     24\u001b[0m \u001b[0;34m\u001b[0m\u001b[0m\n\u001b[1;32m     25\u001b[0m       \u001b[0;31m# backward pass to get the gradients\u001b[0m\u001b[0;34m\u001b[0m\u001b[0;34m\u001b[0m\u001b[0m\n\u001b[0;32m---> 26\u001b[0;31m       \u001b[0mloss\u001b[0m\u001b[0;34m.\u001b[0m\u001b[0mbackward\u001b[0m\u001b[0;34m(\u001b[0m\u001b[0;34m)\u001b[0m\u001b[0;34m\u001b[0m\u001b[0;34m\u001b[0m\u001b[0m\n\u001b[0m\u001b[1;32m     27\u001b[0m \u001b[0;34m\u001b[0m\u001b[0m\n\u001b[1;32m     28\u001b[0m       \u001b[0;31m# update\u001b[0m\u001b[0;34m\u001b[0m\u001b[0;34m\u001b[0m\u001b[0m\n",
            "\u001b[0;32m/usr/local/lib/python3.10/dist-packages/torch/_tensor.py\u001b[0m in \u001b[0;36mbackward\u001b[0;34m(self, gradient, retain_graph, create_graph, inputs)\u001b[0m\n\u001b[1;32m    490\u001b[0m                 \u001b[0minputs\u001b[0m\u001b[0;34m=\u001b[0m\u001b[0minputs\u001b[0m\u001b[0;34m,\u001b[0m\u001b[0;34m\u001b[0m\u001b[0;34m\u001b[0m\u001b[0m\n\u001b[1;32m    491\u001b[0m             )\n\u001b[0;32m--> 492\u001b[0;31m         torch.autograd.backward(\n\u001b[0m\u001b[1;32m    493\u001b[0m             \u001b[0mself\u001b[0m\u001b[0;34m,\u001b[0m \u001b[0mgradient\u001b[0m\u001b[0;34m,\u001b[0m \u001b[0mretain_graph\u001b[0m\u001b[0;34m,\u001b[0m \u001b[0mcreate_graph\u001b[0m\u001b[0;34m,\u001b[0m \u001b[0minputs\u001b[0m\u001b[0;34m=\u001b[0m\u001b[0minputs\u001b[0m\u001b[0;34m\u001b[0m\u001b[0;34m\u001b[0m\u001b[0m\n\u001b[1;32m    494\u001b[0m         )\n",
            "\u001b[0;32m/usr/local/lib/python3.10/dist-packages/torch/autograd/__init__.py\u001b[0m in \u001b[0;36mbackward\u001b[0;34m(tensors, grad_tensors, retain_graph, create_graph, grad_variables, inputs)\u001b[0m\n\u001b[1;32m    249\u001b[0m     \u001b[0;31m# some Python versions print out the first line of a multi-line function\u001b[0m\u001b[0;34m\u001b[0m\u001b[0;34m\u001b[0m\u001b[0m\n\u001b[1;32m    250\u001b[0m     \u001b[0;31m# calls in the traceback and some print out the last line\u001b[0m\u001b[0;34m\u001b[0m\u001b[0;34m\u001b[0m\u001b[0m\n\u001b[0;32m--> 251\u001b[0;31m     Variable._execution_engine.run_backward(  # Calls into the C++ engine to run the backward pass\n\u001b[0m\u001b[1;32m    252\u001b[0m         \u001b[0mtensors\u001b[0m\u001b[0;34m,\u001b[0m\u001b[0;34m\u001b[0m\u001b[0;34m\u001b[0m\u001b[0m\n\u001b[1;32m    253\u001b[0m         \u001b[0mgrad_tensors_\u001b[0m\u001b[0;34m,\u001b[0m\u001b[0;34m\u001b[0m\u001b[0;34m\u001b[0m\u001b[0m\n",
            "\u001b[0;31mKeyboardInterrupt\u001b[0m: "
          ]
        }
      ]
    },
    {
      "cell_type": "markdown",
      "metadata": {
        "id": "2dIvjZWDLbIU"
      },
      "source": [
        "## Inference\n",
        "\n",
        "To perform inference on a new document image, 3 things need to be done:\n",
        "\n",
        "1. prepare the image for the model using `LayoutLMv2Processor`\n",
        "2. forward pass through the model\n",
        "3. convert the output of the model to an actual label name\n",
        "\n",
        "Let's take the first image of the training dataset as an example."
      ]
    },
    {
      "cell_type": "code",
      "metadata": {
        "colab": {
          "base_uri": "https://localhost:8080/",
          "height": 1000
        },
        "id": "4LRSYwcgNLyc",
        "outputId": "feeb4949-9831-485c-85e9-5cbb68e02b2b"
      },
      "source": [
        "image"
      ],
      "execution_count": null,
      "outputs": [
        {
          "output_type": "execute_result",
          "data": {
            "text/plain": [
              "<PIL.Image.Image image mode=RGB size=754x1000>"
            ],
            "image/png": "[encoded data removed]"
          },
          "metadata": {},
          "execution_count": 82
        }
      ]
    },
    {
      "cell_type": "code",
      "metadata": {
        "id": "DqA8LTAE9c5u"
      },
      "source": [
        "# prepare image for the model\n",
        "encoded_inputs = processor(image, return_tensors=\"pt\")\n",
        "\n",
        "# make sure all keys of encoded_inputs are on the same device as the model\n",
        "for k,v in encoded_inputs.items():\n",
        "  encoded_inputs[k] = v.to(model.device)\n",
        "\n",
        "# forward pass\n",
        "outputs = model(**encoded_inputs)"
      ],
      "execution_count": null,
      "outputs": []
    },
    {
      "cell_type": "markdown",
      "metadata": {
        "id": "UaiOhU8wPmVs"
      },
      "source": [
        "The model outputs `logits` of shape (batch_size, num_labels):"
      ]
    },
    {
      "cell_type": "code",
      "metadata": {
        "colab": {
          "base_uri": "https://localhost:8080/"
        },
        "id": "dC4Q5aUNPlfY",
        "outputId": "31c65e06-a9ed-412e-f41f-b71d55dcb952"
      },
      "source": [
        "logits = outputs.logits\n",
        "print(logits)\n",
        "print(logits.shape)"
      ],
      "execution_count": null,
      "outputs": [
        {
          "output_type": "stream",
          "name": "stdout",
          "text": [
            "tensor([[-0.1059, -0.9054,  0.4400,  0.2643, -1.0318, -1.4330, -0.9643, -0.7205,\n",
            "         -1.8218, -0.6237, -0.0216, -0.9627,  0.1802,  0.0883,  0.1410,  3.5628]],\n",
            "       grad_fn=<AddmmBackward0>)\n",
            "torch.Size([1, 16])\n"
          ]
        }
      ]
    },
    {
      "cell_type": "code",
      "metadata": {
        "colab": {
          "base_uri": "https://localhost:8080/"
        },
        "id": "qS7Iz-wDPp51",
        "outputId": "5672e79d-06b7-46e6-f428-1bbc0127c775"
      },
      "source": [
        "predicted_class_idx = logits.argmax(-1).item()\n",
        "print(\"Predicted class:\", id2label[predicted_class_idx])"
      ],
      "execution_count": null,
      "outputs": [
        {
          "output_type": "stream",
          "name": "stdout",
          "text": [
            "Predicted class: 13\n"
          ]
        }
      ]
    },
    {
      "cell_type": "code",
      "metadata": {
        "id": "oPraN6ybP5t6"
      },
      "source": [
        "torch.save(model.state_dict(), 'layoutlmv2_rvl.pt')"
      ],
      "execution_count": null,
      "outputs": []
    },
    {
      "cell_type": "markdown",
      "source": [
        "# Inference on local weights"
      ],
      "metadata": {
        "id": "ZJrkfYzy5V3G"
      }
    },
    {
      "cell_type": "code",
      "source": [
        "!pip install -q git+https://github.com/huggingface/transformers.git\n",
        "!python -m pip install -q 'git+https://github.com/facebookresearch/detectron2.git'"
      ],
      "metadata": {
        "colab": {
          "base_uri": "https://localhost:8080/"
        },
        "id": "41zfPcWyOc1n",
        "outputId": "96da0507-9398-4ee2-8725-13f9964e7439"
      },
      "execution_count": null,
      "outputs": [
        {
          "output_type": "stream",
          "name": "stdout",
          "text": [
            "  Installing build dependencies ... \u001b[?25l\u001b[?25hdone\n",
            "  Getting requirements to build wheel ... \u001b[?25l\u001b[?25hdone\n",
            "  Preparing metadata (pyproject.toml) ... \u001b[?25l\u001b[?25hdone\n",
            "  Building wheel for transformers (pyproject.toml) ... \u001b[?25l\u001b[?25hdone\n",
            "  Preparing metadata (setup.py) ... \u001b[?25l\u001b[?25hdone\n",
            "\u001b[2K     \u001b[90m━━━━━━━━━━━━━━━━━━━━━━━━━━━━━━━━━━━━━━━━\u001b[0m \u001b[32m50.2/50.2 kB\u001b[0m \u001b[31m1.9 MB/s\u001b[0m eta \u001b[36m0:00:00\u001b[0m\n",
            "\u001b[?25h  Preparing metadata (setup.py) ... \u001b[?25l\u001b[?25hdone\n",
            "\u001b[2K     \u001b[90m━━━━━━━━━━━━━━━━━━━━━━━━━━━━━━━━━━━━━━━━\u001b[0m \u001b[32m79.5/79.5 kB\u001b[0m \u001b[31m4.6 MB/s\u001b[0m eta \u001b[36m0:00:00\u001b[0m\n",
            "\u001b[2K     \u001b[90m━━━━━━━━━━━━━━━━━━━━━━━━━━━━━━━━━━━━━━━━\u001b[0m \u001b[32m154.5/154.5 kB\u001b[0m \u001b[31m5.7 MB/s\u001b[0m eta \u001b[36m0:00:00\u001b[0m\n",
            "\u001b[2K     \u001b[90m━━━━━━━━━━━━━━━━━━━━━━━━━━━━━━━━━━━━━━━━\u001b[0m \u001b[32m1.7/1.7 MB\u001b[0m \u001b[31m10.9 MB/s\u001b[0m eta \u001b[36m0:00:00\u001b[0m\n",
            "\u001b[2K     \u001b[90m━━━━━━━━━━━━━━━━━━━━━━━━━━━━━━━━━━━━━━━━\u001b[0m \u001b[32m117.0/117.0 kB\u001b[0m \u001b[31m14.2 MB/s\u001b[0m eta \u001b[36m0:00:00\u001b[0m\n",
            "\u001b[?25h  Preparing metadata (setup.py) ... \u001b[?25l\u001b[?25hdone\n",
            "  Building wheel for detectron2 (setup.py) ... \u001b[?25l\u001b[?25hdone\n",
            "  Building wheel for fvcore (setup.py) ... \u001b[?25l\u001b[?25hdone\n",
            "  Building wheel for antlr4-python3-runtime (setup.py) ... \u001b[?25l\u001b[?25hdone\n"
          ]
        }
      ]
    },
    {
      "cell_type": "code",
      "source": [
        "! sudo apt install tesseract-ocr\n",
        "! pip install -q pytesseract"
      ],
      "metadata": {
        "colab": {
          "base_uri": "https://localhost:8080/"
        },
        "id": "ninIegXeLFU7",
        "outputId": "438488bb-d9b9-413b-c4b2-322f17c4e6dd"
      },
      "execution_count": null,
      "outputs": [
        {
          "output_type": "stream",
          "name": "stdout",
          "text": [
            "Reading package lists... Done\n",
            "Building dependency tree... Done\n",
            "Reading state information... Done\n",
            "The following additional packages will be installed:\n",
            "  tesseract-ocr-eng tesseract-ocr-osd\n",
            "The following NEW packages will be installed:\n",
            "  tesseract-ocr tesseract-ocr-eng tesseract-ocr-osd\n",
            "0 upgraded, 3 newly installed, 0 to remove and 15 not upgraded.\n",
            "Need to get 4,816 kB of archives.\n",
            "After this operation, 15.6 MB of additional disk space will be used.\n",
            "Get:1 http://archive.ubuntu.com/ubuntu jammy/universe amd64 tesseract-ocr-eng all 1:4.00~git30-7274cfa-1.1 [1,591 kB]\n",
            "Get:2 http://archive.ubuntu.com/ubuntu jammy/universe amd64 tesseract-ocr-osd all 1:4.00~git30-7274cfa-1.1 [2,990 kB]\n",
            "Get:3 http://archive.ubuntu.com/ubuntu jammy/universe amd64 tesseract-ocr amd64 4.1.1-2.1build1 [236 kB]\n",
            "Fetched 4,816 kB in 2s (2,654 kB/s)\n",
            "debconf: unable to initialize frontend: Dialog\n",
            "debconf: (No usable dialog-like program is installed, so the dialog based frontend cannot be used. at /usr/share/perl5/Debconf/FrontEnd/Dialog.pm line 78, <> line 3.)\n",
            "debconf: falling back to frontend: Readline\n",
            "debconf: unable to initialize frontend: Readline\n",
            "debconf: (This frontend requires a controlling tty.)\n",
            "debconf: falling back to frontend: Teletype\n",
            "dpkg-preconfigure: unable to re-open stdin: \n",
            "Selecting previously unselected package tesseract-ocr-eng.\n",
            "(Reading database ... 120882 files and directories currently installed.)\n",
            "Preparing to unpack .../tesseract-ocr-eng_1%3a4.00~git30-7274cfa-1.1_all.deb ...\n",
            "Unpacking tesseract-ocr-eng (1:4.00~git30-7274cfa-1.1) ...\n",
            "Selecting previously unselected package tesseract-ocr-osd.\n",
            "Preparing to unpack .../tesseract-ocr-osd_1%3a4.00~git30-7274cfa-1.1_all.deb ...\n",
            "Unpacking tesseract-ocr-osd (1:4.00~git30-7274cfa-1.1) ...\n",
            "Selecting previously unselected package tesseract-ocr.\n",
            "Preparing to unpack .../tesseract-ocr_4.1.1-2.1build1_amd64.deb ...\n",
            "Unpacking tesseract-ocr (4.1.1-2.1build1) ...\n",
            "Setting up tesseract-ocr-eng (1:4.00~git30-7274cfa-1.1) ...\n",
            "Setting up tesseract-ocr-osd (1:4.00~git30-7274cfa-1.1) ...\n",
            "Setting up tesseract-ocr (4.1.1-2.1build1) ...\n",
            "Processing triggers for man-db (2.10.2-1) ...\n"
          ]
        }
      ]
    },
    {
      "cell_type": "code",
      "source": [
        "import pytesseract\n",
        "from transformers import LayoutLMv2ForSequenceClassification\n",
        "import torch\n",
        "from PIL import Image, ImageDraw\n",
        "from transformers import LayoutLMv2ImageProcessor, LayoutLMv2TokenizerFast, LayoutLMv2Processor, LayoutLMv2Tokenizer"
      ],
      "metadata": {
        "id": "Kl4rjukrK9e8"
      },
      "execution_count": null,
      "outputs": []
    },
    {
      "cell_type": "code",
      "source": [
        "from google.colab import drive\n",
        "drive.mount('/content/drive')"
      ],
      "metadata": {
        "colab": {
          "base_uri": "https://localhost:8080/"
        },
        "id": "RfePPA-XOBtZ",
        "outputId": "8250e473-5545-46d7-ccc8-07f1bd0bba4c"
      },
      "execution_count": null,
      "outputs": [
        {
          "output_type": "stream",
          "name": "stdout",
          "text": [
            "Mounted at /content/drive\n"
          ]
        }
      ]
    },
    {
      "cell_type": "code",
      "source": [
        "import pandas as pd\n",
        "import os\n",
        "\n",
        "dataset_path = \"/content/drive/MyDrive/rvl_cdip_1000_samples/images\"\n",
        "labels = [label for label in os.listdir(dataset_path)]\n",
        "id2label = {v: k for v, k in enumerate(labels)}\n",
        "label2id = {k: v for v, k in enumerate(labels)}\n",
        "label2id"
      ],
      "metadata": {
        "colab": {
          "base_uri": "https://localhost:8080/"
        },
        "id": "EXdhWGF7MCCM",
        "outputId": "92d525ff-4043-4149-daf3-073c679b4c28"
      },
      "execution_count": null,
      "outputs": [
        {
          "output_type": "execute_result",
          "data": {
            "text/plain": [
              "{'5': 0,\n",
              " '14': 1,\n",
              " '15': 2,\n",
              " '7': 3,\n",
              " '8': 4,\n",
              " '4': 5,\n",
              " '6': 6,\n",
              " '3': 7,\n",
              " '9': 8,\n",
              " '2': 9,\n",
              " '10': 10,\n",
              " '12': 11,\n",
              " '11': 12,\n",
              " '0': 13,\n",
              " '1': 14,\n",
              " '13': 15}"
            ]
          },
          "metadata": {},
          "execution_count": 5
        }
      ]
    },
    {
      "cell_type": "code",
      "source": [
        "device = torch.device(\"cuda\" if torch.cuda.is_available() else \"cpu\")\n",
        "\n",
        "model = LayoutLMv2ForSequenceClassification.from_pretrained(\"microsoft/layoutlmv2-base-uncased\",\n",
        "                                                            num_labels=16) #Base model to import architecture\n",
        "model.load_state_dict(torch.load('/content/drive/MyDrive/layoutlmv2_rvl_1.pt')) #weights from trained model\n",
        "image = Image.open(\"/content/self_resume_sample_rotate.png\")\n",
        "image = image.convert(\"RGB\")\n",
        "image"
      ],
      "metadata": {
        "colab": {
          "base_uri": "https://localhost:8080/",
          "height": 864
        },
        "id": "ikiTD28W8-iA",
        "outputId": "19540311-6b41-45cd-aaa6-82138f52d04e"
      },
      "execution_count": null,
      "outputs": [
        {
          "output_type": "stream",
          "name": "stderr",
          "text": [
            "Some weights of LayoutLMv2ForSequenceClassification were not initialized from the model checkpoint at microsoft/layoutlmv2-base-uncased and are newly initialized: ['classifier.bias', 'classifier.weight']\n",
            "You should probably TRAIN this model on a down-stream task to be able to use it for predictions and inference.\n"
          ]
        },
        {
          "output_type": "execute_result",
          "data": {
            "text/plain": [
              "<PIL.Image.Image image mode=RGB size=809x812>"
            ],
            "image/png": "[encoded data removed]"
          },
          "metadata": {},
          "execution_count": 20
        }
      ]
    },
    {
      "cell_type": "code",
      "source": [
        "\n",
        "\n",
        "\n",
        "image_processor = LayoutLMv2ImageProcessor()\n",
        "# print(image_processor)\n",
        "tokenizer = LayoutLMv2Tokenizer.from_pretrained(\"microsoft/layoutlmv2-base-uncased\")\n",
        "processor = LayoutLMv2Processor(image_processor, tokenizer)\n",
        "\n",
        "# prepare image for the model\n",
        "encoded_inputs = processor(image, return_tensors=\"pt\", truncation=True) #Maximum number of tokens is 512, so by truncation, more tokens can be fed in by using different chunks\n",
        "# print(encoded_inputs)\n",
        "\n",
        "# make sure all keys of encoded_inputs are on the same device as the model\n",
        "for k,v in encoded_inputs.items():\n",
        "  encoded_inputs[k] = v.to(model.device)\n",
        "\n",
        "# forward pass\n",
        "outputs = model(**encoded_inputs)\n",
        "logits = outputs.logits\n",
        "# print(logits)\n",
        "print(logits.shape)\n",
        "predicted_class_idx = logits.argmax(-1).item()\n",
        "print(\"Predicted class:\", id2label[predicted_class_idx])"
      ],
      "metadata": {
        "colab": {
          "base_uri": "https://localhost:8080/"
        },
        "id": "irlfbwkA4C5M",
        "outputId": "8093ed5e-2174-47a8-f432-24a905b69f85"
      },
      "execution_count": null,
      "outputs": [
        {
          "output_type": "stream",
          "name": "stdout",
          "text": [
            "torch.Size([1, 16])\n",
            "Predicted class: 12\n"
          ]
        }
      ]
    }
  ]
}